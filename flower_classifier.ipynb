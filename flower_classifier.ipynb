{
  "cells": [
    {
      "cell_type": "markdown",
      "metadata": {
        "id": "view-in-github",
        "colab_type": "text"
      },
      "source": [
        "<a href=\"https://colab.research.google.com/github/sabre-code/flower_classification/blob/main/flower_classifier.ipynb\" target=\"_parent\"><img src=\"https://colab.research.google.com/assets/colab-badge.svg\" alt=\"Open In Colab\"/></a>"
      ]
    },
    {
      "cell_type": "code",
      "execution_count": null,
      "metadata": {
        "colab": {
          "base_uri": "https://localhost:8080/"
        },
        "id": "OStQiq8pa3Si",
        "outputId": "49162aa0-e2fa-45f7-9e98-c8abbd962e29"
      },
      "outputs": [
        {
          "name": "stdout",
          "output_type": "stream",
          "text": [
            "Drive already mounted at /content/drive; to attempt to forcibly remount, call drive.mount(\"/content/drive\", force_remount=True).\n"
          ]
        }
      ],
      "source": [
        "from google.colab import drive\n",
        "drive.mount('/content/drive')"
      ],
      "id": "OStQiq8pa3Si"
    },
    {
      "cell_type": "code",
      "execution_count": null,
      "metadata": {
        "id": "Fy6ZJlHkpKk1"
      },
      "outputs": [],
      "source": [
        "import glob\n",
        "import cv2\n",
        "from skimage.transform import resize"
      ],
      "id": "Fy6ZJlHkpKk1"
    },
    {
      "cell_type": "code",
      "execution_count": null,
      "metadata": {
        "id": "95quksR5pdcN"
      },
      "outputs": [],
      "source": [
        "folders = ['daisy', 'dandelion', 'rose', 'sunflower', 'tulip']\n",
        "x = [] # feature data set (images)\n",
        "y = [] # Target data set (label)"
      ],
      "id": "95quksR5pdcN"
    },
    {
      "cell_type": "markdown",
      "metadata": {
        "id": "XeLFyB9v3Yys"
      },
      "source": [
        "**Code to check GPU**"
      ],
      "id": "XeLFyB9v3Yys"
    },
    {
      "cell_type": "code",
      "execution_count": null,
      "metadata": {
        "id": "uLhDNPDnv4g5"
      },
      "outputs": [],
      "source": [
        "#!nvidia-smi -L"
      ],
      "id": "uLhDNPDnv4g5"
    },
    {
      "cell_type": "code",
      "execution_count": null,
      "metadata": {
        "id": "kOnYGi_pqZkg"
      },
      "outputs": [],
      "source": [
        "for folder in folders:\n",
        "  path = '/content/drive/My Drive/Colab Notebooks/flower_classification/flowers_cleaned/'+folder+'/*.jpg'\n",
        "  files = glob.glob(path)\n",
        "\n",
        "  for myFile in files:\n",
        "    image = cv2.imread(myFile)\n",
        "    image = cv2.cvtColor(image,cv2.COLOR_BGR2RGB)\n",
        "    image = resize(image,(32,32,3))\n",
        "    x.append(image)\n",
        "    y.append(folder)"
      ],
      "id": "kOnYGi_pqZkg"
    },
    {
      "cell_type": "code",
      "execution_count": null,
      "metadata": {
        "id": "kSRZg6c9s6n9"
      },
      "outputs": [],
      "source": [
        "from sklearn.model_selection import train_test_split\n",
        "x_train, x_test, y_train, y_test = train_test_split(x,y,test_size = 0.2,random_state = 42)"
      ],
      "id": "kSRZg6c9s6n9"
    },
    {
      "cell_type": "code",
      "execution_count": null,
      "metadata": {
        "colab": {
          "base_uri": "https://localhost:8080/",
          "height": 285
        },
        "id": "Cs3suTF9twMT",
        "outputId": "2417efc6-f36a-47a9-b79f-3846dcef1bf6"
      },
      "outputs": [
        {
          "data": {
            "application/vnd.google.colaboratory.intrinsic+json": {
              "type": "string"
            },
            "text/plain": [
              "'dandelion'"
            ]
          },
          "execution_count": 7,
          "metadata": {},
          "output_type": "execute_result"
        },
        {
          "data": {
            "image/png": "[encoded data removed]",
            "text/plain": [
              "<Figure size 432x288 with 1 Axes>"
            ]
          },
          "metadata": {},
          "output_type": "display_data"
        }
      ],
      "source": [
        "import matplotlib.pyplot as plt\n",
        "img = plt.imshow(x_train[456])\n",
        "y_train[456]"
      ],
      "id": "Cs3suTF9twMT"
    },
    {
      "cell_type": "code",
      "execution_count": null,
      "metadata": {
        "id": "C28sV7oQ2ed7"
      },
      "outputs": [],
      "source": [
        "#Convert all the labels to numeric values\n",
        "from sklearn.preprocessing import LabelEncoder\n",
        "\n",
        "y_train = LabelEncoder().fit_transform(y_train)\n",
        "y_test = LabelEncoder().fit_transform(y_test)"
      ],
      "id": "C28sV7oQ2ed7"
    },
    {
      "cell_type": "code",
      "execution_count": null,
      "metadata": {
        "id": "UpEa_Pg_5UrD"
      },
      "outputs": [],
      "source": [
        "#Convert the labels into a set of 5 numbers to input into the neural network\n",
        "\n",
        "from tensorflow.keras.utils import to_categorical\n",
        "\n",
        "y_train_one = to_categorical(y_train)\n",
        "y_test_one = to_categorical(y_test)"
      ],
      "id": "UpEa_Pg_5UrD"
    },
    {
      "cell_type": "code",
      "execution_count": null,
      "metadata": {
        "colab": {
          "base_uri": "https://localhost:8080/"
        },
        "id": "3IFnPYtD5mWH",
        "outputId": "39d693f4-4c49-4a15-f036-b460c0898025"
      },
      "outputs": [
        {
          "data": {
            "text/plain": [
              "array([[0., 0., 0., 1., 0.],\n",
              "       [0., 0., 0., 0., 1.],\n",
              "       [0., 1., 0., 0., 0.],\n",
              "       ...,\n",
              "       [0., 0., 0., 1., 0.],\n",
              "       [0., 0., 0., 0., 1.],\n",
              "       [0., 1., 0., 0., 0.]], dtype=float32)"
            ]
          },
          "execution_count": 10,
          "metadata": {},
          "output_type": "execute_result"
        }
      ],
      "source": [
        "y_train_one"
      ],
      "id": "3IFnPYtD5mWH"
    },
    {
      "cell_type": "code",
      "execution_count": null,
      "metadata": {
        "colab": {
          "base_uri": "https://localhost:8080/"
        },
        "id": "kEb_CACS8d9W",
        "outputId": "c0a45fab-d5c5-4425-aab5-b1e517a46125"
      },
      "outputs": [
        {
          "name": "stdout",
          "output_type": "stream",
          "text": [
            "New label is : [0. 0. 0. 0. 1.]\n"
          ]
        }
      ],
      "source": [
        "#Print the new label for first image\n",
        "print('New label is :',y_train_one[1])"
      ],
      "id": "kEb_CACS8d9W"
    },
    {
      "cell_type": "code",
      "execution_count": null,
      "metadata": {
        "id": "di4SH4sc8-mB"
      },
      "outputs": [],
      "source": [
        "#Normalizing the pixels in the image to be values between 0 and 1."
      ],
      "id": "di4SH4sc8-mB"
    },
    {
      "cell_type": "code",
      "execution_count": null,
      "metadata": {
        "id": "-P_8mBb9fjE7"
      },
      "outputs": [],
      "source": [
        "import numpy as np\n",
        "x_train = np.array(x_train) /255\n",
        "x_test = np.array(x_test) / 255"
      ],
      "id": "-P_8mBb9fjE7"
    },
    {
      "cell_type": "code",
      "execution_count": null,
      "metadata": {
        "id": "i7-sXfNCh3qH"
      },
      "outputs": [],
      "source": [
        "import tensorflow as tf\n",
        "from tensorflow import keras\n",
        "from keras.models import Sequential\n",
        "from keras.layers import Dense, Flatten, Conv2D, MaxPooling2D\n",
        "from tensorflow.keras import layers\n",
        "model = tf.keras.Sequential()"
      ],
      "id": "i7-sXfNCh3qH"
    },
    {
      "cell_type": "code",
      "execution_count": null,
      "metadata": {
        "id": "vKTM0I67iJf5"
      },
      "outputs": [],
      "source": [
        "model.add(layers.Conv2D(32, (5,5), activation = 'relu', input_shape = (32,32,3)))\n",
        "model.add(layers.MaxPooling2D(pool_size=(2, 2)))\n",
        "model.add(layers.Conv2D(64, (5,5), activation='relu'))\n",
        "model.add(layers.MaxPooling2D(pool_size=(2, 2)))\n",
        "model.add(layers.Flatten())\n",
        "model.add(layers.Dense(64, activation='relu'))\n",
        "model.add(layers.Dense(5,  activation='softmax'))"
      ],
      "id": "vKTM0I67iJf5"
    },
    {
      "cell_type": "code",
      "execution_count": null,
      "metadata": {
        "id": "VvEia7IZjhk4"
      },
      "outputs": [],
      "source": [
        "#Compile the model\n",
        "model.compile(loss = 'categorical_crossentropy',optimizer='adam',metrics=['accuracy'])"
      ],
      "id": "VvEia7IZjhk4"
    },
    {
      "cell_type": "code",
      "execution_count": null,
      "metadata": {
        "colab": {
          "background_save": true,
          "base_uri": "https://localhost:8080/"
        },
        "id": "rPX3sRyMj9Qb",
        "outputId": "2cb14d9e-d4c6-460c-e6ad-dd21898e71f8"
      },
      "outputs": [
        {
          "name": "stdout",
          "output_type": "stream",
          "text": [
            "Epoch 1/250\n",
            "48/48 [==============================] - 6s 112ms/step - loss: 1.6013 - accuracy: 0.2327 - val_loss: 1.6018 - val_accuracy: 0.2448\n",
            "Epoch 2/250\n",
            "48/48 [==============================] - 5s 106ms/step - loss: 1.5979 - accuracy: 0.2386 - val_loss: 1.6035 - val_accuracy: 0.2448\n",
            "Epoch 3/250\n",
            "48/48 [==============================] - 5s 105ms/step - loss: 1.5979 - accuracy: 0.2386 - val_loss: 1.6020 - val_accuracy: 0.2448\n",
            "Epoch 4/250\n",
            "48/48 [==============================] - 5s 106ms/step - loss: 1.5973 - accuracy: 0.2323 - val_loss: 1.6054 - val_accuracy: 0.2203\n",
            "Epoch 5/250\n",
            "48/48 [==============================] - 5s 104ms/step - loss: 1.5964 - accuracy: 0.2310 - val_loss: 1.6007 - val_accuracy: 0.2448\n",
            "Epoch 6/250\n",
            "48/48 [==============================] - 5s 106ms/step - loss: 1.5927 - accuracy: 0.2433 - val_loss: 1.5922 - val_accuracy: 0.2448\n",
            "Epoch 7/250\n",
            "48/48 [==============================] - 5s 106ms/step - loss: 1.5716 - accuracy: 0.2559 - val_loss: 1.5423 - val_accuracy: 0.2409\n",
            "Epoch 8/250\n",
            "48/48 [==============================] - 5s 106ms/step - loss: 1.4755 - accuracy: 0.3276 - val_loss: 1.4148 - val_accuracy: 0.3294\n",
            "Epoch 9/250\n",
            "48/48 [==============================] - 5s 105ms/step - loss: 1.3761 - accuracy: 0.3693 - val_loss: 1.2956 - val_accuracy: 0.4022\n",
            "Epoch 10/250\n",
            "48/48 [==============================] - 5s 108ms/step - loss: 1.2713 - accuracy: 0.4123 - val_loss: 1.2770 - val_accuracy: 0.4130\n",
            "Epoch 11/250\n",
            "48/48 [==============================] - 5s 105ms/step - loss: 1.2596 - accuracy: 0.4283 - val_loss: 1.3414 - val_accuracy: 0.3874\n",
            "Epoch 12/250\n",
            "48/48 [==============================] - 5s 103ms/step - loss: 1.2370 - accuracy: 0.4401 - val_loss: 1.2171 - val_accuracy: 0.4336\n",
            "Epoch 13/250\n",
            "48/48 [==============================] - 5s 102ms/step - loss: 1.2166 - accuracy: 0.4444 - val_loss: 1.2318 - val_accuracy: 0.4533\n",
            "Epoch 14/250\n",
            "48/48 [==============================] - 5s 104ms/step - loss: 1.2005 - accuracy: 0.4591 - val_loss: 1.2096 - val_accuracy: 0.4779\n",
            "Epoch 15/250\n",
            "48/48 [==============================] - 5s 105ms/step - loss: 1.1853 - accuracy: 0.4709 - val_loss: 1.2190 - val_accuracy: 0.4789\n",
            "Epoch 16/250\n",
            "48/48 [==============================] - 5s 103ms/step - loss: 1.2043 - accuracy: 0.4793 - val_loss: 1.3567 - val_accuracy: 0.4317\n",
            "Epoch 17/250\n",
            "48/48 [==============================] - 5s 104ms/step - loss: 1.1880 - accuracy: 0.4916 - val_loss: 1.1785 - val_accuracy: 0.4995\n",
            "Epoch 18/250\n",
            "48/48 [==============================] - 5s 108ms/step - loss: 1.1727 - accuracy: 0.4903 - val_loss: 1.2070 - val_accuracy: 0.4769\n",
            "Epoch 19/250\n",
            "48/48 [==============================] - 5s 103ms/step - loss: 1.1686 - accuracy: 0.4987 - val_loss: 1.1995 - val_accuracy: 0.5064\n",
            "Epoch 20/250\n",
            "48/48 [==============================] - 5s 106ms/step - loss: 1.1644 - accuracy: 0.5017 - val_loss: 1.1789 - val_accuracy: 0.5034\n",
            "Epoch 21/250\n",
            "48/48 [==============================] - 5s 114ms/step - loss: 1.1425 - accuracy: 0.5089 - val_loss: 1.1591 - val_accuracy: 0.5074\n",
            "Epoch 22/250\n",
            "48/48 [==============================] - 5s 109ms/step - loss: 1.1331 - accuracy: 0.5194 - val_loss: 1.1455 - val_accuracy: 0.5241\n",
            "Epoch 23/250\n",
            "48/48 [==============================] - 5s 108ms/step - loss: 1.1238 - accuracy: 0.5198 - val_loss: 1.1597 - val_accuracy: 0.5192\n",
            "Epoch 24/250\n",
            "48/48 [==============================] - 5s 109ms/step - loss: 1.1456 - accuracy: 0.5135 - val_loss: 1.1611 - val_accuracy: 0.5310\n",
            "Epoch 25/250\n",
            "48/48 [==============================] - 6s 115ms/step - loss: 1.1186 - accuracy: 0.5261 - val_loss: 1.1547 - val_accuracy: 0.5152\n",
            "Epoch 26/250\n",
            "48/48 [==============================] - 5s 111ms/step - loss: 1.1137 - accuracy: 0.5295 - val_loss: 1.1500 - val_accuracy: 0.5211\n",
            "Epoch 27/250\n",
            "48/48 [==============================] - 5s 107ms/step - loss: 1.1090 - accuracy: 0.5304 - val_loss: 1.1512 - val_accuracy: 0.5310\n",
            "Epoch 28/250\n",
            "48/48 [==============================] - 5s 106ms/step - loss: 1.1089 - accuracy: 0.5392 - val_loss: 1.1401 - val_accuracy: 0.5359\n",
            "Epoch 29/250\n",
            "48/48 [==============================] - 5s 107ms/step - loss: 1.1095 - accuracy: 0.5417 - val_loss: 1.1316 - val_accuracy: 0.5506\n",
            "Epoch 30/250\n",
            "48/48 [==============================] - 5s 106ms/step - loss: 1.1009 - accuracy: 0.5367 - val_loss: 1.1565 - val_accuracy: 0.5113\n",
            "Epoch 31/250\n",
            "48/48 [==============================] - 5s 105ms/step - loss: 1.0946 - accuracy: 0.5350 - val_loss: 1.1243 - val_accuracy: 0.5369\n",
            "Epoch 32/250\n",
            "48/48 [==============================] - 5s 104ms/step - loss: 1.0854 - accuracy: 0.5426 - val_loss: 1.1172 - val_accuracy: 0.5556\n",
            "Epoch 33/250\n",
            "48/48 [==============================] - 5s 105ms/step - loss: 1.0835 - accuracy: 0.5468 - val_loss: 1.1131 - val_accuracy: 0.5477\n",
            "Epoch 34/250\n",
            "48/48 [==============================] - 5s 101ms/step - loss: 1.0736 - accuracy: 0.5472 - val_loss: 1.1170 - val_accuracy: 0.5428\n",
            "Epoch 35/250\n",
            "48/48 [==============================] - 5s 102ms/step - loss: 1.0667 - accuracy: 0.5637 - val_loss: 1.1548 - val_accuracy: 0.5329\n",
            "Epoch 36/250\n",
            "48/48 [==============================] - 5s 103ms/step - loss: 1.0730 - accuracy: 0.5502 - val_loss: 1.1244 - val_accuracy: 0.5290\n",
            "Epoch 37/250\n",
            "48/48 [==============================] - 5s 105ms/step - loss: 1.0644 - accuracy: 0.5691 - val_loss: 1.1286 - val_accuracy: 0.5526\n",
            "Epoch 38/250\n",
            "48/48 [==============================] - 5s 102ms/step - loss: 1.0635 - accuracy: 0.5662 - val_loss: 1.1080 - val_accuracy: 0.5605\n",
            "Epoch 39/250\n",
            "48/48 [==============================] - 5s 103ms/step - loss: 1.0538 - accuracy: 0.5653 - val_loss: 1.1112 - val_accuracy: 0.5605\n",
            "Epoch 40/250\n",
            "48/48 [==============================] - 5s 101ms/step - loss: 1.0497 - accuracy: 0.5712 - val_loss: 1.1295 - val_accuracy: 0.5339\n",
            "Epoch 41/250\n",
            "48/48 [==============================] - 5s 100ms/step - loss: 1.0661 - accuracy: 0.5662 - val_loss: 1.1519 - val_accuracy: 0.5280\n",
            "Epoch 42/250\n",
            "48/48 [==============================] - 5s 102ms/step - loss: 1.0509 - accuracy: 0.5725 - val_loss: 1.0995 - val_accuracy: 0.5526\n",
            "Epoch 43/250\n",
            "48/48 [==============================] - 5s 101ms/step - loss: 1.0347 - accuracy: 0.5831 - val_loss: 1.0931 - val_accuracy: 0.5644\n",
            "Epoch 44/250\n",
            "48/48 [==============================] - 5s 100ms/step - loss: 1.0440 - accuracy: 0.5772 - val_loss: 1.1151 - val_accuracy: 0.5595\n",
            "Epoch 45/250\n",
            "48/48 [==============================] - 5s 102ms/step - loss: 1.0528 - accuracy: 0.5628 - val_loss: 1.1295 - val_accuracy: 0.5644\n",
            "Epoch 46/250\n",
            "48/48 [==============================] - 5s 102ms/step - loss: 1.0329 - accuracy: 0.5767 - val_loss: 1.0860 - val_accuracy: 0.5831\n",
            "Epoch 47/250\n",
            "48/48 [==============================] - 5s 101ms/step - loss: 1.0237 - accuracy: 0.5767 - val_loss: 1.1049 - val_accuracy: 0.5359\n",
            "Epoch 48/250\n",
            "48/48 [==============================] - 5s 101ms/step - loss: 1.0266 - accuracy: 0.5826 - val_loss: 1.0997 - val_accuracy: 0.5506\n",
            "Epoch 49/250\n",
            "48/48 [==============================] - 5s 103ms/step - loss: 1.0289 - accuracy: 0.5734 - val_loss: 1.1176 - val_accuracy: 0.5428\n",
            "Epoch 50/250\n",
            "48/48 [==============================] - 5s 100ms/step - loss: 1.0141 - accuracy: 0.5856 - val_loss: 1.0789 - val_accuracy: 0.5605\n",
            "Epoch 51/250\n",
            "48/48 [==============================] - 5s 103ms/step - loss: 1.0056 - accuracy: 0.5944 - val_loss: 1.1467 - val_accuracy: 0.5447\n",
            "Epoch 52/250\n",
            "48/48 [==============================] - 5s 102ms/step - loss: 1.0127 - accuracy: 0.5919 - val_loss: 1.1491 - val_accuracy: 0.5349\n",
            "Epoch 53/250\n",
            "48/48 [==============================] - 5s 102ms/step - loss: 1.0006 - accuracy: 0.5936 - val_loss: 1.0808 - val_accuracy: 0.5693\n",
            "Epoch 54/250\n",
            "48/48 [==============================] - 5s 102ms/step - loss: 1.0022 - accuracy: 0.5944 - val_loss: 1.1012 - val_accuracy: 0.5457\n",
            "Epoch 55/250\n",
            "48/48 [==============================] - 5s 102ms/step - loss: 0.9983 - accuracy: 0.5919 - val_loss: 1.0850 - val_accuracy: 0.5654\n",
            "Epoch 56/250\n",
            "48/48 [==============================] - 5s 102ms/step - loss: 0.9951 - accuracy: 0.5856 - val_loss: 1.0939 - val_accuracy: 0.5585\n",
            "Epoch 57/250\n",
            "48/48 [==============================] - 5s 106ms/step - loss: 1.0105 - accuracy: 0.5847 - val_loss: 1.0856 - val_accuracy: 0.5713\n",
            "Epoch 58/250\n",
            "48/48 [==============================] - 5s 104ms/step - loss: 1.0038 - accuracy: 0.6016 - val_loss: 1.0812 - val_accuracy: 0.5575\n",
            "Epoch 59/250\n",
            "48/48 [==============================] - 5s 104ms/step - loss: 0.9809 - accuracy: 0.6050 - val_loss: 1.0732 - val_accuracy: 0.5762\n",
            "Epoch 60/250\n",
            "48/48 [==============================] - 5s 102ms/step - loss: 0.9805 - accuracy: 0.6041 - val_loss: 1.0946 - val_accuracy: 0.5477\n",
            "Epoch 61/250\n",
            "48/48 [==============================] - 5s 103ms/step - loss: 0.9875 - accuracy: 0.5970 - val_loss: 1.0882 - val_accuracy: 0.5644\n",
            "Epoch 62/250\n",
            "48/48 [==============================] - 5s 102ms/step - loss: 0.9842 - accuracy: 0.6012 - val_loss: 1.0763 - val_accuracy: 0.5713\n",
            "Epoch 63/250\n",
            "48/48 [==============================] - 5s 104ms/step - loss: 0.9658 - accuracy: 0.6134 - val_loss: 1.0931 - val_accuracy: 0.5624\n",
            "Epoch 64/250\n",
            "48/48 [==============================] - 5s 104ms/step - loss: 0.9636 - accuracy: 0.6050 - val_loss: 1.1043 - val_accuracy: 0.5556\n",
            "Epoch 65/250\n",
            "48/48 [==============================] - 5s 101ms/step - loss: 0.9747 - accuracy: 0.6096 - val_loss: 1.0792 - val_accuracy: 0.5703\n",
            "Epoch 66/250\n",
            "48/48 [==============================] - 5s 102ms/step - loss: 0.9699 - accuracy: 0.6206 - val_loss: 1.1236 - val_accuracy: 0.5477\n",
            "Epoch 67/250\n",
            "48/48 [==============================] - 5s 102ms/step - loss: 0.9555 - accuracy: 0.6197 - val_loss: 1.1234 - val_accuracy: 0.5556\n",
            "Epoch 68/250\n",
            "48/48 [==============================] - 5s 102ms/step - loss: 0.9528 - accuracy: 0.6176 - val_loss: 1.0865 - val_accuracy: 0.5624\n",
            "Epoch 69/250\n",
            "48/48 [==============================] - 5s 101ms/step - loss: 0.9538 - accuracy: 0.6113 - val_loss: 1.0807 - val_accuracy: 0.5752\n",
            "Epoch 70/250\n",
            "48/48 [==============================] - 5s 103ms/step - loss: 0.9558 - accuracy: 0.6151 - val_loss: 1.0782 - val_accuracy: 0.5674\n",
            "Epoch 71/250\n",
            "48/48 [==============================] - 5s 101ms/step - loss: 0.9471 - accuracy: 0.6185 - val_loss: 1.0688 - val_accuracy: 0.5723\n",
            "Epoch 72/250\n",
            "48/48 [==============================] - 5s 103ms/step - loss: 0.9358 - accuracy: 0.6286 - val_loss: 1.0698 - val_accuracy: 0.5683\n",
            "Epoch 73/250\n",
            "48/48 [==============================] - 5s 103ms/step - loss: 0.9283 - accuracy: 0.6256 - val_loss: 1.0865 - val_accuracy: 0.5752\n",
            "Epoch 74/250\n",
            "48/48 [==============================] - 5s 103ms/step - loss: 0.9327 - accuracy: 0.6336 - val_loss: 1.0726 - val_accuracy: 0.5683\n",
            "Epoch 75/250\n",
            "48/48 [==============================] - 5s 101ms/step - loss: 0.9277 - accuracy: 0.6395 - val_loss: 1.0656 - val_accuracy: 0.5801\n",
            "Epoch 76/250\n",
            "48/48 [==============================] - 5s 105ms/step - loss: 0.9330 - accuracy: 0.6307 - val_loss: 1.0774 - val_accuracy: 0.5664\n",
            "Epoch 77/250\n",
            "48/48 [==============================] - 5s 104ms/step - loss: 0.9296 - accuracy: 0.6303 - val_loss: 1.0921 - val_accuracy: 0.5536\n",
            "Epoch 78/250\n",
            "48/48 [==============================] - 5s 103ms/step - loss: 0.9222 - accuracy: 0.6265 - val_loss: 1.0703 - val_accuracy: 0.5821\n",
            "Epoch 79/250\n",
            "48/48 [==============================] - 5s 104ms/step - loss: 0.9279 - accuracy: 0.6298 - val_loss: 1.0814 - val_accuracy: 0.5772\n",
            "Epoch 80/250\n",
            "48/48 [==============================] - 5s 103ms/step - loss: 0.9175 - accuracy: 0.6269 - val_loss: 1.0706 - val_accuracy: 0.5762\n",
            "Epoch 81/250\n",
            "48/48 [==============================] - 5s 103ms/step - loss: 0.9223 - accuracy: 0.6277 - val_loss: 1.0872 - val_accuracy: 0.5683\n",
            "Epoch 82/250\n",
            "48/48 [==============================] - 5s 102ms/step - loss: 0.9098 - accuracy: 0.6353 - val_loss: 1.0943 - val_accuracy: 0.5733\n",
            "Epoch 83/250\n",
            "48/48 [==============================] - 5s 101ms/step - loss: 0.9059 - accuracy: 0.6412 - val_loss: 1.0627 - val_accuracy: 0.5565\n",
            "Epoch 84/250\n",
            "48/48 [==============================] - 5s 102ms/step - loss: 0.9032 - accuracy: 0.6421 - val_loss: 1.0892 - val_accuracy: 0.5624\n",
            "Epoch 85/250\n",
            "48/48 [==============================] - 5s 104ms/step - loss: 0.9067 - accuracy: 0.6421 - val_loss: 1.0634 - val_accuracy: 0.5634\n",
            "Epoch 86/250\n",
            "48/48 [==============================] - 5s 104ms/step - loss: 0.8957 - accuracy: 0.6467 - val_loss: 1.0774 - val_accuracy: 0.5752\n",
            "Epoch 87/250\n",
            "48/48 [==============================] - 5s 105ms/step - loss: 0.8987 - accuracy: 0.6450 - val_loss: 1.0671 - val_accuracy: 0.5792\n",
            "Epoch 88/250\n",
            "48/48 [==============================] - 6s 116ms/step - loss: 0.8831 - accuracy: 0.6446 - val_loss: 1.1307 - val_accuracy: 0.5457\n",
            "Epoch 89/250\n",
            "48/48 [==============================] - 5s 105ms/step - loss: 0.8851 - accuracy: 0.6480 - val_loss: 1.0625 - val_accuracy: 0.5939\n",
            "Epoch 90/250\n",
            "48/48 [==============================] - 5s 107ms/step - loss: 0.8877 - accuracy: 0.6488 - val_loss: 1.0903 - val_accuracy: 0.5565\n",
            "Epoch 91/250\n",
            "48/48 [==============================] - 5s 103ms/step - loss: 0.8873 - accuracy: 0.6467 - val_loss: 1.0564 - val_accuracy: 0.5811\n",
            "Epoch 92/250\n",
            "48/48 [==============================] - 5s 105ms/step - loss: 0.8663 - accuracy: 0.6653 - val_loss: 1.0527 - val_accuracy: 0.5831\n",
            "Epoch 93/250\n",
            "48/48 [==============================] - 5s 103ms/step - loss: 0.8687 - accuracy: 0.6547 - val_loss: 1.0773 - val_accuracy: 0.5782\n",
            "Epoch 94/250\n",
            "48/48 [==============================] - 5s 103ms/step - loss: 0.8596 - accuracy: 0.6632 - val_loss: 1.0874 - val_accuracy: 0.5703\n",
            "Epoch 95/250\n",
            "48/48 [==============================] - 5s 101ms/step - loss: 0.8608 - accuracy: 0.6644 - val_loss: 1.0571 - val_accuracy: 0.5870\n",
            "Epoch 96/250\n",
            "48/48 [==============================] - 5s 101ms/step - loss: 0.8555 - accuracy: 0.6648 - val_loss: 1.0708 - val_accuracy: 0.5811\n",
            "Epoch 97/250\n",
            "48/48 [==============================] - 5s 100ms/step - loss: 0.8485 - accuracy: 0.6610 - val_loss: 1.0497 - val_accuracy: 0.5910\n",
            "Epoch 98/250\n",
            "48/48 [==============================] - 5s 101ms/step - loss: 0.8411 - accuracy: 0.6750 - val_loss: 1.0856 - val_accuracy: 0.5801\n",
            "Epoch 99/250\n",
            "48/48 [==============================] - 5s 101ms/step - loss: 0.8532 - accuracy: 0.6665 - val_loss: 1.0482 - val_accuracy: 0.5939\n",
            "Epoch 100/250\n",
            "48/48 [==============================] - 5s 102ms/step - loss: 0.8382 - accuracy: 0.6699 - val_loss: 1.0676 - val_accuracy: 0.5821\n",
            "Epoch 101/250\n",
            "48/48 [==============================] - 5s 100ms/step - loss: 0.8336 - accuracy: 0.6724 - val_loss: 1.0526 - val_accuracy: 0.5870\n",
            "Epoch 102/250\n",
            "48/48 [==============================] - 5s 103ms/step - loss: 0.8254 - accuracy: 0.6800 - val_loss: 1.0881 - val_accuracy: 0.5654\n",
            "Epoch 103/250\n",
            "48/48 [==============================] - 5s 101ms/step - loss: 0.8280 - accuracy: 0.6762 - val_loss: 1.0795 - val_accuracy: 0.5821\n",
            "Epoch 104/250\n",
            "48/48 [==============================] - 5s 102ms/step - loss: 0.8284 - accuracy: 0.6691 - val_loss: 1.0543 - val_accuracy: 0.5978\n",
            "Epoch 105/250\n",
            "48/48 [==============================] - 5s 103ms/step - loss: 0.8187 - accuracy: 0.6766 - val_loss: 1.0724 - val_accuracy: 0.5801\n",
            "Epoch 106/250\n",
            "48/48 [==============================] - 5s 104ms/step - loss: 0.8192 - accuracy: 0.6863 - val_loss: 1.0593 - val_accuracy: 0.5831\n",
            "Epoch 107/250\n",
            "48/48 [==============================] - 5s 103ms/step - loss: 0.8136 - accuracy: 0.6804 - val_loss: 1.0696 - val_accuracy: 0.5978\n",
            "Epoch 108/250\n",
            "48/48 [==============================] - 5s 103ms/step - loss: 0.8080 - accuracy: 0.6863 - val_loss: 1.0643 - val_accuracy: 0.5772\n",
            "Epoch 109/250\n",
            "48/48 [==============================] - 5s 102ms/step - loss: 0.8015 - accuracy: 0.6783 - val_loss: 1.0707 - val_accuracy: 0.5890\n",
            "Epoch 110/250\n",
            "48/48 [==============================] - 5s 105ms/step - loss: 0.8056 - accuracy: 0.6935 - val_loss: 1.0720 - val_accuracy: 0.5831\n",
            "Epoch 111/250\n",
            "48/48 [==============================] - 5s 101ms/step - loss: 0.7963 - accuracy: 0.6809 - val_loss: 1.0555 - val_accuracy: 0.5880\n",
            "Epoch 112/250\n",
            "48/48 [==============================] - 5s 106ms/step - loss: 0.7849 - accuracy: 0.6969 - val_loss: 1.0561 - val_accuracy: 0.5969\n",
            "Epoch 113/250\n",
            "48/48 [==============================] - 5s 102ms/step - loss: 0.7917 - accuracy: 0.6901 - val_loss: 1.0769 - val_accuracy: 0.5752\n",
            "Epoch 114/250\n",
            "48/48 [==============================] - 5s 101ms/step - loss: 0.7911 - accuracy: 0.6944 - val_loss: 1.0872 - val_accuracy: 0.5782\n",
            "Epoch 115/250\n",
            "48/48 [==============================] - 5s 103ms/step - loss: 0.7955 - accuracy: 0.6884 - val_loss: 1.0773 - val_accuracy: 0.5772\n",
            "Epoch 116/250\n",
            "48/48 [==============================] - 5s 103ms/step - loss: 0.7909 - accuracy: 0.6884 - val_loss: 1.0848 - val_accuracy: 0.5910\n",
            "Epoch 117/250\n",
            "48/48 [==============================] - 5s 101ms/step - loss: 0.7914 - accuracy: 0.6821 - val_loss: 1.1043 - val_accuracy: 0.5733\n",
            "Epoch 118/250\n",
            "48/48 [==============================] - 5s 104ms/step - loss: 0.7830 - accuracy: 0.7003 - val_loss: 1.0572 - val_accuracy: 0.5860\n",
            "Epoch 119/250\n",
            "48/48 [==============================] - 5s 104ms/step - loss: 0.7683 - accuracy: 0.6969 - val_loss: 1.0740 - val_accuracy: 0.5801\n",
            "Epoch 120/250\n",
            "48/48 [==============================] - 5s 105ms/step - loss: 0.7640 - accuracy: 0.7053 - val_loss: 1.0926 - val_accuracy: 0.5811\n",
            "Epoch 121/250\n",
            "48/48 [==============================] - 5s 104ms/step - loss: 0.7688 - accuracy: 0.7066 - val_loss: 1.0840 - val_accuracy: 0.5782\n",
            "Epoch 122/250\n",
            "48/48 [==============================] - 5s 107ms/step - loss: 0.7553 - accuracy: 0.7028 - val_loss: 1.0817 - val_accuracy: 0.5821\n",
            "Epoch 123/250\n",
            "48/48 [==============================] - 5s 106ms/step - loss: 0.7477 - accuracy: 0.7137 - val_loss: 1.0634 - val_accuracy: 0.5929\n",
            "Epoch 124/250\n",
            "48/48 [==============================] - 5s 111ms/step - loss: 0.7411 - accuracy: 0.7163 - val_loss: 1.0798 - val_accuracy: 0.5929\n",
            "Epoch 125/250\n",
            "48/48 [==============================] - 5s 107ms/step - loss: 0.7454 - accuracy: 0.7104 - val_loss: 1.0792 - val_accuracy: 0.5890\n",
            "Epoch 126/250\n",
            "48/48 [==============================] - 5s 103ms/step - loss: 0.7648 - accuracy: 0.7053 - val_loss: 1.1083 - val_accuracy: 0.5880\n",
            "Epoch 127/250\n",
            "48/48 [==============================] - 5s 104ms/step - loss: 0.7369 - accuracy: 0.7125 - val_loss: 1.0754 - val_accuracy: 0.5841\n",
            "Epoch 128/250\n",
            "48/48 [==============================] - 5s 104ms/step - loss: 0.7343 - accuracy: 0.7192 - val_loss: 1.0879 - val_accuracy: 0.5841\n",
            "Epoch 129/250\n",
            "48/48 [==============================] - 5s 106ms/step - loss: 0.7639 - accuracy: 0.7057 - val_loss: 1.1280 - val_accuracy: 0.5752\n",
            "Epoch 130/250\n",
            "48/48 [==============================] - 5s 106ms/step - loss: 0.7391 - accuracy: 0.7150 - val_loss: 1.1342 - val_accuracy: 0.5811\n",
            "Epoch 131/250\n",
            "48/48 [==============================] - 5s 105ms/step - loss: 0.7529 - accuracy: 0.7053 - val_loss: 1.0967 - val_accuracy: 0.5949\n",
            "Epoch 132/250\n",
            "48/48 [==============================] - 5s 105ms/step - loss: 0.7281 - accuracy: 0.7201 - val_loss: 1.0783 - val_accuracy: 0.5949\n",
            "Epoch 133/250\n",
            "48/48 [==============================] - 5s 103ms/step - loss: 0.7217 - accuracy: 0.7247 - val_loss: 1.0820 - val_accuracy: 0.5860\n",
            "Epoch 134/250\n",
            "48/48 [==============================] - 5s 103ms/step - loss: 0.7264 - accuracy: 0.7247 - val_loss: 1.0960 - val_accuracy: 0.5939\n",
            "Epoch 135/250\n",
            "48/48 [==============================] - 5s 105ms/step - loss: 0.7204 - accuracy: 0.7222 - val_loss: 1.1151 - val_accuracy: 0.5949\n",
            "Epoch 136/250\n",
            "48/48 [==============================] - 5s 104ms/step - loss: 0.7217 - accuracy: 0.7243 - val_loss: 1.0998 - val_accuracy: 0.5821\n",
            "Epoch 137/250\n",
            "48/48 [==============================] - 5s 103ms/step - loss: 0.6972 - accuracy: 0.7424 - val_loss: 1.0949 - val_accuracy: 0.5910\n",
            "Epoch 138/250\n",
            "48/48 [==============================] - 5s 104ms/step - loss: 0.7185 - accuracy: 0.7239 - val_loss: 1.1142 - val_accuracy: 0.5792\n",
            "Epoch 139/250\n",
            "48/48 [==============================] - 5s 104ms/step - loss: 0.7202 - accuracy: 0.7243 - val_loss: 1.1293 - val_accuracy: 0.5860\n",
            "Epoch 140/250\n",
            "48/48 [==============================] - 5s 102ms/step - loss: 0.7090 - accuracy: 0.7331 - val_loss: 1.0943 - val_accuracy: 0.5900\n",
            "Epoch 141/250\n",
            "48/48 [==============================] - 5s 102ms/step - loss: 0.6939 - accuracy: 0.7382 - val_loss: 1.1197 - val_accuracy: 0.5880\n",
            "Epoch 142/250\n",
            "48/48 [==============================] - 5s 106ms/step - loss: 0.7017 - accuracy: 0.7323 - val_loss: 1.0917 - val_accuracy: 0.6028\n",
            "Epoch 143/250\n",
            "48/48 [==============================] - 5s 103ms/step - loss: 0.6866 - accuracy: 0.7395 - val_loss: 1.1006 - val_accuracy: 0.5959\n",
            "Epoch 144/250\n",
            "48/48 [==============================] - 5s 103ms/step - loss: 0.6850 - accuracy: 0.7361 - val_loss: 1.1110 - val_accuracy: 0.5831\n",
            "Epoch 145/250\n",
            "48/48 [==============================] - 5s 104ms/step - loss: 0.6931 - accuracy: 0.7348 - val_loss: 1.0931 - val_accuracy: 0.5821\n",
            "Epoch 146/250\n",
            "48/48 [==============================] - 5s 106ms/step - loss: 0.6921 - accuracy: 0.7357 - val_loss: 1.1029 - val_accuracy: 0.5900\n",
            "Epoch 147/250\n",
            "48/48 [==============================] - 5s 103ms/step - loss: 0.6751 - accuracy: 0.7441 - val_loss: 1.1196 - val_accuracy: 0.5959\n",
            "Epoch 148/250\n",
            "48/48 [==============================] - 5s 104ms/step - loss: 0.6791 - accuracy: 0.7382 - val_loss: 1.1023 - val_accuracy: 0.5860\n",
            "Epoch 149/250\n",
            "48/48 [==============================] - 5s 103ms/step - loss: 0.6848 - accuracy: 0.7348 - val_loss: 1.1313 - val_accuracy: 0.5890\n",
            "Epoch 150/250\n",
            "48/48 [==============================] - 5s 103ms/step - loss: 0.6752 - accuracy: 0.7433 - val_loss: 1.1054 - val_accuracy: 0.5880\n",
            "Epoch 151/250\n",
            "48/48 [==============================] - 5s 107ms/step - loss: 0.6757 - accuracy: 0.7390 - val_loss: 1.1255 - val_accuracy: 0.5919\n",
            "Epoch 152/250\n",
            "48/48 [==============================] - 5s 105ms/step - loss: 0.6628 - accuracy: 0.7466 - val_loss: 1.1138 - val_accuracy: 0.5851\n",
            "Epoch 153/250\n",
            "48/48 [==============================] - 5s 105ms/step - loss: 0.6666 - accuracy: 0.7416 - val_loss: 1.1123 - val_accuracy: 0.5713\n",
            "Epoch 154/250\n",
            "48/48 [==============================] - 5s 111ms/step - loss: 0.6501 - accuracy: 0.7572 - val_loss: 1.1480 - val_accuracy: 0.5851\n",
            "Epoch 155/250\n",
            "48/48 [==============================] - 5s 104ms/step - loss: 0.6514 - accuracy: 0.7576 - val_loss: 1.1169 - val_accuracy: 0.5900\n",
            "Epoch 156/250\n",
            "48/48 [==============================] - 5s 103ms/step - loss: 0.6466 - accuracy: 0.7546 - val_loss: 1.1320 - val_accuracy: 0.5811\n",
            "Epoch 157/250\n",
            "48/48 [==============================] - 5s 105ms/step - loss: 0.6647 - accuracy: 0.7479 - val_loss: 1.1581 - val_accuracy: 0.5713\n",
            "Epoch 158/250\n",
            "48/48 [==============================] - 5s 106ms/step - loss: 0.6431 - accuracy: 0.7622 - val_loss: 1.1342 - val_accuracy: 0.5782\n",
            "Epoch 159/250\n",
            "48/48 [==============================] - 5s 102ms/step - loss: 0.6557 - accuracy: 0.7563 - val_loss: 1.1295 - val_accuracy: 0.5929\n",
            "Epoch 160/250\n",
            "48/48 [==============================] - 5s 108ms/step - loss: 0.6417 - accuracy: 0.7551 - val_loss: 1.1331 - val_accuracy: 0.5821\n",
            "Epoch 161/250\n",
            "48/48 [==============================] - 5s 107ms/step - loss: 0.6391 - accuracy: 0.7572 - val_loss: 1.1296 - val_accuracy: 0.5821\n",
            "Epoch 162/250\n",
            "48/48 [==============================] - 5s 103ms/step - loss: 0.6300 - accuracy: 0.7618 - val_loss: 1.1533 - val_accuracy: 0.5811\n",
            "Epoch 163/250\n",
            "48/48 [==============================] - 5s 104ms/step - loss: 0.6388 - accuracy: 0.7567 - val_loss: 1.1516 - val_accuracy: 0.5900\n",
            "Epoch 164/250\n",
            "48/48 [==============================] - 5s 105ms/step - loss: 0.6428 - accuracy: 0.7559 - val_loss: 1.1529 - val_accuracy: 0.5978\n",
            "Epoch 165/250\n",
            "48/48 [==============================] - 5s 104ms/step - loss: 0.6266 - accuracy: 0.7648 - val_loss: 1.1671 - val_accuracy: 0.5870\n",
            "Epoch 166/250\n",
            "48/48 [==============================] - 5s 104ms/step - loss: 0.6431 - accuracy: 0.7614 - val_loss: 1.2111 - val_accuracy: 0.5644\n",
            "Epoch 167/250\n",
            "48/48 [==============================] - 5s 102ms/step - loss: 0.6269 - accuracy: 0.7648 - val_loss: 1.1429 - val_accuracy: 0.6008\n",
            "Epoch 168/250\n",
            "48/48 [==============================] - 5s 104ms/step - loss: 0.6193 - accuracy: 0.7664 - val_loss: 1.1325 - val_accuracy: 0.5762\n",
            "Epoch 169/250\n",
            "48/48 [==============================] - 5s 104ms/step - loss: 0.6152 - accuracy: 0.7715 - val_loss: 1.1843 - val_accuracy: 0.5752\n",
            "Epoch 170/250\n",
            "48/48 [==============================] - 5s 104ms/step - loss: 0.6029 - accuracy: 0.7837 - val_loss: 1.1704 - val_accuracy: 0.5929\n",
            "Epoch 171/250\n",
            "48/48 [==============================] - 5s 103ms/step - loss: 0.6004 - accuracy: 0.7685 - val_loss: 1.1564 - val_accuracy: 0.5910\n",
            "Epoch 172/250\n",
            "48/48 [==============================] - 5s 104ms/step - loss: 0.6073 - accuracy: 0.7707 - val_loss: 1.1911 - val_accuracy: 0.5959\n",
            "Epoch 173/250\n",
            "48/48 [==============================] - 5s 103ms/step - loss: 0.6072 - accuracy: 0.7753 - val_loss: 1.1783 - val_accuracy: 0.5900\n",
            "Epoch 174/250\n",
            "48/48 [==============================] - 5s 103ms/step - loss: 0.5943 - accuracy: 0.7707 - val_loss: 1.1753 - val_accuracy: 0.5772\n",
            "Epoch 175/250\n",
            "48/48 [==============================] - 5s 103ms/step - loss: 0.6073 - accuracy: 0.7723 - val_loss: 1.1790 - val_accuracy: 0.5929\n",
            "Epoch 176/250\n",
            "48/48 [==============================] - 5s 103ms/step - loss: 0.6011 - accuracy: 0.7787 - val_loss: 1.1640 - val_accuracy: 0.6037\n",
            "Epoch 177/250\n",
            "48/48 [==============================] - 5s 104ms/step - loss: 0.5929 - accuracy: 0.7808 - val_loss: 1.1697 - val_accuracy: 0.5821\n",
            "Epoch 178/250\n",
            "48/48 [==============================] - 5s 105ms/step - loss: 0.5964 - accuracy: 0.7766 - val_loss: 1.1670 - val_accuracy: 0.5988\n",
            "Epoch 179/250\n",
            "48/48 [==============================] - 5s 103ms/step - loss: 0.5922 - accuracy: 0.7829 - val_loss: 1.1929 - val_accuracy: 0.5831\n",
            "Epoch 180/250\n",
            "48/48 [==============================] - 5s 104ms/step - loss: 0.5784 - accuracy: 0.7926 - val_loss: 1.2507 - val_accuracy: 0.5703\n",
            "Epoch 181/250\n",
            "48/48 [==============================] - 5s 105ms/step - loss: 0.5888 - accuracy: 0.7787 - val_loss: 1.1857 - val_accuracy: 0.5900\n",
            "Epoch 182/250\n",
            "48/48 [==============================] - 5s 105ms/step - loss: 0.5693 - accuracy: 0.7841 - val_loss: 1.1803 - val_accuracy: 0.5959\n",
            "Epoch 183/250\n",
            "48/48 [==============================] - 5s 104ms/step - loss: 0.5672 - accuracy: 0.7909 - val_loss: 1.1815 - val_accuracy: 0.5880\n",
            "Epoch 184/250\n",
            "48/48 [==============================] - 5s 106ms/step - loss: 0.5776 - accuracy: 0.7816 - val_loss: 1.2026 - val_accuracy: 0.5910\n",
            "Epoch 185/250\n",
            "48/48 [==============================] - 5s 104ms/step - loss: 0.5725 - accuracy: 0.7858 - val_loss: 1.1952 - val_accuracy: 0.6018\n",
            "Epoch 186/250\n",
            "48/48 [==============================] - 5s 105ms/step - loss: 0.5717 - accuracy: 0.7947 - val_loss: 1.2067 - val_accuracy: 0.5752\n",
            "Epoch 187/250\n",
            "48/48 [==============================] - 5s 105ms/step - loss: 0.5786 - accuracy: 0.7879 - val_loss: 1.2172 - val_accuracy: 0.5742\n",
            "Epoch 188/250\n",
            "48/48 [==============================] - 5s 104ms/step - loss: 0.5641 - accuracy: 0.7913 - val_loss: 1.2206 - val_accuracy: 0.5821\n",
            "Epoch 189/250\n",
            "48/48 [==============================] - 5s 103ms/step - loss: 0.5626 - accuracy: 0.7858 - val_loss: 1.2231 - val_accuracy: 0.5742\n",
            "Epoch 190/250\n",
            "48/48 [==============================] - 5s 105ms/step - loss: 0.5599 - accuracy: 0.7943 - val_loss: 1.2153 - val_accuracy: 0.5792\n",
            "Epoch 191/250\n",
            "48/48 [==============================] - 5s 103ms/step - loss: 0.5463 - accuracy: 0.8014 - val_loss: 1.2186 - val_accuracy: 0.5811\n",
            "Epoch 192/250\n",
            "48/48 [==============================] - 5s 102ms/step - loss: 0.5463 - accuracy: 0.8006 - val_loss: 1.2135 - val_accuracy: 0.5733\n",
            "Epoch 193/250\n",
            "48/48 [==============================] - 5s 102ms/step - loss: 0.5341 - accuracy: 0.8048 - val_loss: 1.2320 - val_accuracy: 0.6018\n",
            "Epoch 194/250\n",
            "48/48 [==============================] - 5s 104ms/step - loss: 0.5371 - accuracy: 0.8044 - val_loss: 1.2643 - val_accuracy: 0.5772\n",
            "Epoch 195/250\n",
            "48/48 [==============================] - 5s 101ms/step - loss: 0.5352 - accuracy: 0.7997 - val_loss: 1.2515 - val_accuracy: 0.5998\n",
            "Epoch 196/250\n",
            "48/48 [==============================] - 5s 102ms/step - loss: 0.5634 - accuracy: 0.7875 - val_loss: 1.2521 - val_accuracy: 0.5821\n",
            "Epoch 197/250\n",
            "48/48 [==============================] - 5s 102ms/step - loss: 0.5481 - accuracy: 0.8002 - val_loss: 1.2406 - val_accuracy: 0.5939\n",
            "Epoch 198/250\n",
            "48/48 [==============================] - 5s 102ms/step - loss: 0.5377 - accuracy: 0.8052 - val_loss: 1.2314 - val_accuracy: 0.5713\n",
            "Epoch 199/250\n",
            "48/48 [==============================] - 5s 103ms/step - loss: 0.5169 - accuracy: 0.8132 - val_loss: 1.2430 - val_accuracy: 0.5792\n",
            "Epoch 200/250\n",
            "48/48 [==============================] - 5s 103ms/step - loss: 0.5301 - accuracy: 0.8094 - val_loss: 1.2301 - val_accuracy: 0.5801\n",
            "Epoch 201/250\n",
            "48/48 [==============================] - 5s 103ms/step - loss: 0.5250 - accuracy: 0.8048 - val_loss: 1.2439 - val_accuracy: 0.5801\n",
            "Epoch 202/250\n",
            "48/48 [==============================] - 5s 105ms/step - loss: 0.5113 - accuracy: 0.8120 - val_loss: 1.2372 - val_accuracy: 0.5821\n",
            "Epoch 203/250\n",
            "48/48 [==============================] - 5s 105ms/step - loss: 0.5060 - accuracy: 0.8137 - val_loss: 1.3034 - val_accuracy: 0.5674\n",
            "Epoch 204/250\n",
            "48/48 [==============================] - 5s 103ms/step - loss: 0.5356 - accuracy: 0.7972 - val_loss: 1.2512 - val_accuracy: 0.5831\n",
            "Epoch 205/250\n",
            "48/48 [==============================] - 5s 103ms/step - loss: 0.5133 - accuracy: 0.8145 - val_loss: 1.2638 - val_accuracy: 0.5910\n",
            "Epoch 206/250\n",
            "48/48 [==============================] - 5s 104ms/step - loss: 0.5171 - accuracy: 0.8116 - val_loss: 1.2776 - val_accuracy: 0.5821\n",
            "Epoch 207/250\n",
            "48/48 [==============================] - 5s 104ms/step - loss: 0.5104 - accuracy: 0.8069 - val_loss: 1.2761 - val_accuracy: 0.5752\n",
            "Epoch 208/250\n",
            "48/48 [==============================] - 5s 104ms/step - loss: 0.5282 - accuracy: 0.8073 - val_loss: 1.3092 - val_accuracy: 0.5811\n",
            "Epoch 209/250\n",
            "48/48 [==============================] - 5s 106ms/step - loss: 0.5015 - accuracy: 0.8212 - val_loss: 1.2873 - val_accuracy: 0.5801\n",
            "Epoch 210/250\n",
            "48/48 [==============================] - 5s 104ms/step - loss: 0.5032 - accuracy: 0.8187 - val_loss: 1.2890 - val_accuracy: 0.5792\n",
            "Epoch 211/250\n",
            "48/48 [==============================] - 5s 104ms/step - loss: 0.4925 - accuracy: 0.8234 - val_loss: 1.2637 - val_accuracy: 0.5890\n",
            "Epoch 212/250\n",
            "48/48 [==============================] - 5s 106ms/step - loss: 0.4863 - accuracy: 0.8196 - val_loss: 1.3133 - val_accuracy: 0.5733\n",
            "Epoch 213/250\n",
            "48/48 [==============================] - 5s 105ms/step - loss: 0.4953 - accuracy: 0.8187 - val_loss: 1.2959 - val_accuracy: 0.5821\n",
            "Epoch 214/250\n",
            "48/48 [==============================] - 5s 109ms/step - loss: 0.5037 - accuracy: 0.8225 - val_loss: 1.3227 - val_accuracy: 0.5792\n",
            "Epoch 215/250\n",
            "48/48 [==============================] - 5s 105ms/step - loss: 0.4911 - accuracy: 0.8183 - val_loss: 1.3177 - val_accuracy: 0.5919\n",
            "Epoch 216/250\n",
            "48/48 [==============================] - 5s 108ms/step - loss: 0.4831 - accuracy: 0.8267 - val_loss: 1.2774 - val_accuracy: 0.5880\n",
            "Epoch 217/250\n",
            "48/48 [==============================] - 5s 108ms/step - loss: 0.4788 - accuracy: 0.8326 - val_loss: 1.3329 - val_accuracy: 0.5801\n",
            "Epoch 218/250\n",
            "48/48 [==============================] - 5s 110ms/step - loss: 0.4808 - accuracy: 0.8229 - val_loss: 1.2830 - val_accuracy: 0.5801\n",
            "Epoch 219/250\n",
            "48/48 [==============================] - 5s 107ms/step - loss: 0.4785 - accuracy: 0.8225 - val_loss: 1.2975 - val_accuracy: 0.5792\n",
            "Epoch 220/250\n",
            "48/48 [==============================] - 5s 106ms/step - loss: 0.4762 - accuracy: 0.8331 - val_loss: 1.2976 - val_accuracy: 0.5792\n",
            "Epoch 221/250\n",
            "48/48 [==============================] - 5s 106ms/step - loss: 0.4657 - accuracy: 0.8314 - val_loss: 1.3546 - val_accuracy: 0.5546\n",
            "Epoch 222/250\n",
            "48/48 [==============================] - 5s 107ms/step - loss: 0.4795 - accuracy: 0.8385 - val_loss: 1.3417 - val_accuracy: 0.5772\n",
            "Epoch 223/250\n",
            "48/48 [==============================] - 5s 106ms/step - loss: 0.4699 - accuracy: 0.8335 - val_loss: 1.3390 - val_accuracy: 0.5772\n",
            "Epoch 224/250\n",
            "48/48 [==============================] - 5s 105ms/step - loss: 0.4590 - accuracy: 0.8373 - val_loss: 1.3134 - val_accuracy: 0.5762\n",
            "Epoch 225/250\n",
            "48/48 [==============================] - 5s 106ms/step - loss: 0.4542 - accuracy: 0.8411 - val_loss: 1.3289 - val_accuracy: 0.5811\n",
            "Epoch 226/250\n",
            "48/48 [==============================] - 5s 109ms/step - loss: 0.4508 - accuracy: 0.8440 - val_loss: 1.3228 - val_accuracy: 0.5762\n",
            "Epoch 227/250\n",
            "48/48 [==============================] - 5s 106ms/step - loss: 0.4583 - accuracy: 0.8347 - val_loss: 1.3438 - val_accuracy: 0.5772\n",
            "Epoch 228/250\n",
            "48/48 [==============================] - 5s 106ms/step - loss: 0.4462 - accuracy: 0.8373 - val_loss: 1.3326 - val_accuracy: 0.5733\n",
            "Epoch 229/250\n",
            "48/48 [==============================] - 5s 106ms/step - loss: 0.4613 - accuracy: 0.8347 - val_loss: 1.3314 - val_accuracy: 0.5801\n",
            "Epoch 230/250\n",
            "48/48 [==============================] - 5s 105ms/step - loss: 0.4464 - accuracy: 0.8427 - val_loss: 1.3300 - val_accuracy: 0.5752\n",
            "Epoch 231/250\n",
            "48/48 [==============================] - 5s 105ms/step - loss: 0.4356 - accuracy: 0.8512 - val_loss: 1.3245 - val_accuracy: 0.5733\n",
            "Epoch 232/250\n",
            "48/48 [==============================] - 5s 106ms/step - loss: 0.4460 - accuracy: 0.8465 - val_loss: 1.3944 - val_accuracy: 0.5801\n",
            "Epoch 233/250\n",
            "48/48 [==============================] - 5s 105ms/step - loss: 0.4470 - accuracy: 0.8432 - val_loss: 1.3734 - val_accuracy: 0.5674\n",
            "Epoch 234/250\n",
            "48/48 [==============================] - 5s 106ms/step - loss: 0.4392 - accuracy: 0.8453 - val_loss: 1.3840 - val_accuracy: 0.5890\n",
            "Epoch 235/250\n",
            "48/48 [==============================] - 5s 107ms/step - loss: 0.4581 - accuracy: 0.8415 - val_loss: 1.3741 - val_accuracy: 0.5733\n",
            "Epoch 236/250\n",
            "48/48 [==============================] - 5s 106ms/step - loss: 0.4384 - accuracy: 0.8427 - val_loss: 1.3772 - val_accuracy: 0.5860\n",
            "Epoch 237/250\n",
            "48/48 [==============================] - 5s 106ms/step - loss: 0.4211 - accuracy: 0.8541 - val_loss: 1.3938 - val_accuracy: 0.5575\n",
            "Epoch 238/250\n",
            "48/48 [==============================] - 5s 107ms/step - loss: 0.4183 - accuracy: 0.8562 - val_loss: 1.4143 - val_accuracy: 0.5782\n",
            "Epoch 239/250\n",
            "48/48 [==============================] - 5s 104ms/step - loss: 0.4268 - accuracy: 0.8415 - val_loss: 1.3888 - val_accuracy: 0.5792\n",
            "Epoch 240/250\n",
            "48/48 [==============================] - 5s 105ms/step - loss: 0.4129 - accuracy: 0.8571 - val_loss: 1.4040 - val_accuracy: 0.5792\n",
            "Epoch 241/250\n",
            "48/48 [==============================] - 5s 106ms/step - loss: 0.4181 - accuracy: 0.8562 - val_loss: 1.3929 - val_accuracy: 0.5742\n",
            "Epoch 242/250\n",
            "48/48 [==============================] - 5s 105ms/step - loss: 0.4080 - accuracy: 0.8596 - val_loss: 1.4486 - val_accuracy: 0.5585\n",
            "Epoch 243/250\n",
            "48/48 [==============================] - 5s 104ms/step - loss: 0.4129 - accuracy: 0.8546 - val_loss: 1.4114 - val_accuracy: 0.5762\n",
            "Epoch 244/250\n",
            "48/48 [==============================] - 5s 108ms/step - loss: 0.4050 - accuracy: 0.8621 - val_loss: 1.4318 - val_accuracy: 0.5556\n",
            "Epoch 245/250\n",
            "48/48 [==============================] - 5s 106ms/step - loss: 0.4150 - accuracy: 0.8562 - val_loss: 1.4685 - val_accuracy: 0.5742\n",
            "Epoch 246/250\n",
            "48/48 [==============================] - 5s 107ms/step - loss: 0.4246 - accuracy: 0.8440 - val_loss: 1.4268 - val_accuracy: 0.5851\n",
            "Epoch 247/250\n",
            "48/48 [==============================] - 5s 107ms/step - loss: 0.4108 - accuracy: 0.8520 - val_loss: 1.4369 - val_accuracy: 0.5801\n",
            "Epoch 248/250\n",
            "48/48 [==============================] - 5s 108ms/step - loss: 0.4078 - accuracy: 0.8550 - val_loss: 1.4381 - val_accuracy: 0.5811\n",
            "Epoch 249/250\n",
            "48/48 [==============================] - 5s 107ms/step - loss: 0.4061 - accuracy: 0.8583 - val_loss: 1.5058 - val_accuracy: 0.5497\n",
            "Epoch 250/250\n",
            "48/48 [==============================] - 5s 105ms/step - loss: 0.4029 - accuracy: 0.8638 - val_loss: 1.4712 - val_accuracy: 0.5664\n"
          ]
        }
      ],
      "source": [
        "hist = model.fit(x_train, y_train_one, batch_size = 50, epochs = 250, validation_split = 0.3)"
      ],
      "id": "rPX3sRyMj9Qb"
    },
    {
      "cell_type": "code",
      "execution_count": null,
      "metadata": {
        "colab": {
          "background_save": true,
          "base_uri": "https://localhost:8080/"
        },
        "id": "TTtHXndPs34T",
        "outputId": "f4ece56e-8b6d-413b-c27c-54a9251bb566"
      },
      "outputs": [
        {
          "name": "stdout",
          "output_type": "stream",
          "text": [
            "27/27 [==============================] - 0s 17ms/step - loss: 1.5809 - accuracy: 0.5448\n"
          ]
        },
        {
          "data": {
            "text/plain": [
              "[1.580910563468933, 0.5448113083839417]"
            ]
          },
          "execution_count": 18,
          "metadata": {},
          "output_type": "execute_result"
        }
      ],
      "source": [
        "model.evaluate(x_test,y_test_one)"
      ],
      "id": "TTtHXndPs34T"
    },
    {
      "cell_type": "code",
      "execution_count": null,
      "metadata": {
        "colab": {
          "background_save": true,
          "base_uri": "https://localhost:8080/",
          "height": 295
        },
        "id": "d0zI8wSptrQr",
        "outputId": "9f38d205-3c5e-47c7-db36-486a84adf55e"
      },
      "outputs": [
        {
          "data": {
            "image/png": "[encoded data removed]",
            "text/plain": [
              "<Figure size 432x288 with 1 Axes>"
            ]
          },
          "metadata": {},
          "output_type": "display_data"
        }
      ],
      "source": [
        "#visualise the models accuracy\n",
        "plt.plot(hist.history['accuracy'])\n",
        "plt.plot(hist.history['val_accuracy'])\n",
        "plt.title('Model accuracy')\n",
        "plt.ylabel('Accuracy')\n",
        "plt.xlabel('Epoch')\n",
        "plt.legend(['Train','Val'], loc = 'upper right')\n",
        "plt.show()"
      ],
      "id": "d0zI8wSptrQr"
    },
    {
      "cell_type": "code",
      "execution_count": null,
      "metadata": {
        "colab": {
          "background_save": true,
          "base_uri": "https://localhost:8080/",
          "height": 295
        },
        "id": "eLLeGu7AuqXb",
        "outputId": "67098da4-ae7c-4887-e891-1c32ebadbe84"
      },
      "outputs": [
        {
          "data": {
            "image/png": "[encoded data removed]",
            "text/plain": [
              "<Figure size 432x288 with 1 Axes>"
            ]
          },
          "metadata": {},
          "output_type": "display_data"
        }
      ],
      "source": [
        "#Visualise the models loss\n",
        "plt.plot(hist.history['loss'])\n",
        "plt.plot(hist.history['val_loss'])\n",
        "plt.title('Model Loss')\n",
        "plt.ylabel('Loss')\n",
        "plt.xlabel('Epoch')\n",
        "plt.legend(['Train', 'Val'], loc = 'upper right')\n",
        "plt.show()"
      ],
      "id": "eLLeGu7AuqXb"
    },
    {
      "cell_type": "code",
      "execution_count": null,
      "metadata": {
        "colab": {
          "background_save": true
        },
        "id": "AvwtURYrvTo7"
      },
      "outputs": [],
      "source": [],
      "id": "AvwtURYrvTo7"
    }
  ],
  "metadata": {
    "accelerator": "GPU",
    "colab": {
      "collapsed_sections": [],
      "name": "flower_classifier.ipynb",
      "provenance": [],
      "include_colab_link": true
    },
    "gpuClass": "standard",
    "kernelspec": {
      "display_name": "Python 3 (ipykernel)",
      "language": "python",
      "name": "python3"
    },
    "language_info": {
      "codemirror_mode": {
        "name": "ipython",
        "version": 3
      },
      "file_extension": ".py",
      "mimetype": "text/x-python",
      "name": "python",
      "nbconvert_exporter": "python",
      "pygments_lexer": "ipython3",
      "version": "3.9.12"
    }
  },
  "nbformat": 4,
  "nbformat_minor": 5
}