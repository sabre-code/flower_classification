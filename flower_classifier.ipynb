{
  "cells": [
    {
      "cell_type": "markdown",
      "metadata": {
        "id": "view-in-github",
        "colab_type": "text"
      },
      "source": [
        "<a href=\"https://colab.research.google.com/github/sabre-code/flower_classification/blob/main/flower_classifier.ipynb\" target=\"_parent\"><img src=\"https://colab.research.google.com/assets/colab-badge.svg\" alt=\"Open In Colab\"/></a>"
      ]
    },
    {
      "cell_type": "code",
      "execution_count": 1,
      "metadata": {
        "colab": {
          "base_uri": "https://localhost:8080/"
        },
        "id": "OStQiq8pa3Si",
        "outputId": "f44bd766-6217-43cf-a2e3-6fcdff5cee98"
      },
      "outputs": [
        {
          "output_type": "stream",
          "name": "stdout",
          "text": [
            "Mounted at /content/drive\n"
          ]
        }
      ],
      "source": [
        "from google.colab import drive\n",
        "drive.mount('/content/drive')"
      ],
      "id": "OStQiq8pa3Si"
    },
    {
      "cell_type": "code",
      "execution_count": 6,
      "metadata": {
        "id": "Fy6ZJlHkpKk1"
      },
      "outputs": [],
      "source": [
        "import glob\n",
        "import cv2\n",
        "from skimage.transform import resize"
      ],
      "id": "Fy6ZJlHkpKk1"
    },
    {
      "cell_type": "code",
      "execution_count": 7,
      "metadata": {
        "id": "95quksR5pdcN"
      },
      "outputs": [],
      "source": [
        "folders = ['daisy', 'dandelion', 'rose', 'sunflower', 'tulip']\n",
        "x = [] # feature data set (images)\n",
        "y = [] # Target data set (label)"
      ],
      "id": "95quksR5pdcN"
    },
    {
      "cell_type": "markdown",
      "metadata": {
        "id": "XeLFyB9v3Yys"
      },
      "source": [
        "**Code to check GPU**"
      ],
      "id": "XeLFyB9v3Yys"
    },
    {
      "cell_type": "code",
      "execution_count": 25,
      "metadata": {
        "id": "uLhDNPDnv4g5",
        "colab": {
          "base_uri": "https://localhost:8080/"
        },
        "outputId": "5c4ac1db-600d-4fcc-9ca0-dd3e8ea0d9e3"
      },
      "outputs": [
        {
          "output_type": "stream",
          "name": "stdout",
          "text": [
            "GPU 0: Tesla T4 (UUID: GPU-6f8840a6-79b7-c912-412c-054cd0f88a71)\n"
          ]
        }
      ],
      "source": [
        "!nvidia-smi -L"
      ],
      "id": "uLhDNPDnv4g5"
    },
    {
      "cell_type": "code",
      "execution_count": 9,
      "metadata": {
        "id": "kOnYGi_pqZkg"
      },
      "outputs": [],
      "source": [
        "for folder in folders:\n",
        "  path = '/content/drive/My Drive/GitHub/flower_classification/flowers_cleaned/'+folder+'/*.jpg'\n",
        "  files = glob.glob(path)\n",
        "\n",
        "  for myFile in files:\n",
        "    image = cv2.imread(myFile)\n",
        "    image = cv2.cvtColor(image,cv2.COLOR_BGR2RGB)\n",
        "    image = resize(image,(32,32,3))\n",
        "    x.append(image)\n",
        "    y.append(folder)"
      ],
      "id": "kOnYGi_pqZkg"
    },
    {
      "cell_type": "code",
      "execution_count": 10,
      "metadata": {
        "id": "kSRZg6c9s6n9"
      },
      "outputs": [],
      "source": [
        "from sklearn.model_selection import train_test_split\n",
        "x_train, x_test, y_train, y_test = train_test_split(x,y,test_size = 0.2,random_state = 42)"
      ],
      "id": "kSRZg6c9s6n9"
    },
    {
      "cell_type": "code",
      "execution_count": 11,
      "metadata": {
        "colab": {
          "base_uri": "https://localhost:8080/",
          "height": 285
        },
        "id": "Cs3suTF9twMT",
        "outputId": "22f38325-a8c9-498e-ca57-d8d5659f3780"
      },
      "outputs": [
        {
          "output_type": "execute_result",
          "data": {
            "text/plain": [
              "'dandelion'"
            ],
            "application/vnd.google.colaboratory.intrinsic+json": {
              "type": "string"
            }
          },
          "metadata": {},
          "execution_count": 11
        },
        {
          "output_type": "display_data",
          "data": {
            "text/plain": [
              "<Figure size 432x288 with 1 Axes>"
            ],
            "image/png": "[encoded data removed]"
          },
          "metadata": {
            "needs_background": "light"
          }
        }
      ],
      "source": [
        "import matplotlib.pyplot as plt\n",
        "img = plt.imshow(x_train[456])\n",
        "y_train[456]"
      ],
      "id": "Cs3suTF9twMT"
    },
    {
      "cell_type": "code",
      "execution_count": 12,
      "metadata": {
        "id": "C28sV7oQ2ed7"
      },
      "outputs": [],
      "source": [
        "#Convert all the labels to numeric values\n",
        "from sklearn.preprocessing import LabelEncoder\n",
        "\n",
        "y_train = LabelEncoder().fit_transform(y_train)\n",
        "y_test = LabelEncoder().fit_transform(y_test)"
      ],
      "id": "C28sV7oQ2ed7"
    },
    {
      "cell_type": "code",
      "execution_count": 13,
      "metadata": {
        "id": "UpEa_Pg_5UrD"
      },
      "outputs": [],
      "source": [
        "#Convert the labels into a set of 5 numbers to input into the neural network\n",
        "\n",
        "from tensorflow.keras.utils import to_categorical\n",
        "\n",
        "y_train_one = to_categorical(y_train)\n",
        "y_test_one = to_categorical(y_test)"
      ],
      "id": "UpEa_Pg_5UrD"
    },
    {
      "cell_type": "code",
      "execution_count": 14,
      "metadata": {
        "colab": {
          "base_uri": "https://localhost:8080/"
        },
        "id": "3IFnPYtD5mWH",
        "outputId": "0c6a0e81-921d-4fd9-c246-e0c0a5de9176"
      },
      "outputs": [
        {
          "output_type": "execute_result",
          "data": {
            "text/plain": [
              "array([[1., 0., 0., 0., 0.],\n",
              "       [0., 1., 0., 0., 0.],\n",
              "       [0., 0., 0., 1., 0.],\n",
              "       ...,\n",
              "       [0., 1., 0., 0., 0.],\n",
              "       [0., 0., 0., 0., 1.],\n",
              "       [0., 0., 0., 1., 0.]], dtype=float32)"
            ]
          },
          "metadata": {},
          "execution_count": 14
        }
      ],
      "source": [
        "y_train_one"
      ],
      "id": "3IFnPYtD5mWH"
    },
    {
      "cell_type": "code",
      "execution_count": 15,
      "metadata": {
        "colab": {
          "base_uri": "https://localhost:8080/"
        },
        "id": "kEb_CACS8d9W",
        "outputId": "2c232d5f-e64a-4141-9993-0325c778cd6b"
      },
      "outputs": [
        {
          "output_type": "stream",
          "name": "stdout",
          "text": [
            "New label is : [0. 1. 0. 0. 0.]\n"
          ]
        }
      ],
      "source": [
        "#Print the new label for first image\n",
        "print('New label is :',y_train_one[1])"
      ],
      "id": "kEb_CACS8d9W"
    },
    {
      "cell_type": "code",
      "execution_count": 16,
      "metadata": {
        "id": "di4SH4sc8-mB"
      },
      "outputs": [],
      "source": [
        "#Normalizing the pixels in the image to be values between 0 and 1."
      ],
      "id": "di4SH4sc8-mB"
    },
    {
      "cell_type": "code",
      "execution_count": 17,
      "metadata": {
        "id": "-P_8mBb9fjE7"
      },
      "outputs": [],
      "source": [
        "import numpy as np\n",
        "x_train = np.array(x_train) /255\n",
        "x_test = np.array(x_test) / 255"
      ],
      "id": "-P_8mBb9fjE7"
    },
    {
      "cell_type": "code",
      "execution_count": 51,
      "metadata": {
        "id": "i7-sXfNCh3qH"
      },
      "outputs": [],
      "source": [
        "import tensorflow as tf\n",
        "from tensorflow import keras\n",
        "from keras.models import Sequential\n",
        "from keras.layers import Dense, Flatten, Conv2D, MaxPooling2D\n",
        "from tensorflow.keras import layers\n",
        "model = tf.keras.Sequential()"
      ],
      "id": "i7-sXfNCh3qH"
    },
    {
      "cell_type": "code",
      "execution_count": 52,
      "metadata": {
        "id": "vKTM0I67iJf5"
      },
      "outputs": [],
      "source": [
        "model.add(layers.Conv2D(32, (5,5), activation = 'relu', input_shape = (32,32,3)))\n",
        "model.add(layers.MaxPooling2D(pool_size=(4, 4)))\n",
        "model.add(layers.Conv2D(64, (5,5), activation='relu'))\n",
        "model.add(layers.MaxPooling2D(pool_size=(2, 2)))\n",
        "model.add(layers.Flatten())\n",
        "model.add(layers.Dense(64, activation='relu'))\n",
        "model.add(layers.Dense(5,  activation='softmax'))"
      ],
      "id": "vKTM0I67iJf5"
    },
    {
      "cell_type": "code",
      "execution_count": 53,
      "metadata": {
        "id": "VvEia7IZjhk4"
      },
      "outputs": [],
      "source": [
        "#Compile the model\n",
        "model.compile(loss = 'categorical_crossentropy',optimizer='adam',metrics=['accuracy'])"
      ],
      "id": "VvEia7IZjhk4"
    },
    {
      "cell_type": "code",
      "execution_count": 54,
      "metadata": {
        "colab": {
          "base_uri": "https://localhost:8080/"
        },
        "id": "rPX3sRyMj9Qb",
        "outputId": "e866e24a-80b1-4988-fc41-cef1409374c2"
      },
      "outputs": [
        {
          "output_type": "stream",
          "name": "stdout",
          "text": [
            "Epoch 1/125\n",
            "49/49 [==============================] - 1s 13ms/step - loss: 1.5897 - accuracy: 0.2757 - val_loss: 1.5915 - val_accuracy: 0.2897\n",
            "Epoch 2/125\n",
            "49/49 [==============================] - 0s 5ms/step - loss: 1.5816 - accuracy: 0.2752 - val_loss: 1.5895 - val_accuracy: 0.2897\n",
            "Epoch 3/125\n",
            "49/49 [==============================] - 0s 5ms/step - loss: 1.5804 - accuracy: 0.2752 - val_loss: 1.5875 - val_accuracy: 0.2897\n",
            "Epoch 4/125\n",
            "49/49 [==============================] - 0s 6ms/step - loss: 1.5791 - accuracy: 0.2752 - val_loss: 1.5863 - val_accuracy: 0.2897\n",
            "Epoch 5/125\n",
            "49/49 [==============================] - 0s 5ms/step - loss: 1.5770 - accuracy: 0.2752 - val_loss: 1.5854 - val_accuracy: 0.2897\n",
            "Epoch 6/125\n",
            "49/49 [==============================] - 0s 6ms/step - loss: 1.5722 - accuracy: 0.2752 - val_loss: 1.5748 - val_accuracy: 0.2897\n",
            "Epoch 7/125\n",
            "49/49 [==============================] - 0s 6ms/step - loss: 1.5499 - accuracy: 0.2761 - val_loss: 1.5457 - val_accuracy: 0.3460\n",
            "Epoch 8/125\n",
            "49/49 [==============================] - 0s 6ms/step - loss: 1.5002 - accuracy: 0.3402 - val_loss: 1.4827 - val_accuracy: 0.3675\n",
            "Epoch 9/125\n",
            "49/49 [==============================] - 0s 6ms/step - loss: 1.4506 - accuracy: 0.3560 - val_loss: 1.4609 - val_accuracy: 0.3709\n",
            "Epoch 10/125\n",
            "49/49 [==============================] - 0s 6ms/step - loss: 1.4336 - accuracy: 0.3618 - val_loss: 1.4871 - val_accuracy: 0.3427\n",
            "Epoch 11/125\n",
            "49/49 [==============================] - 0s 6ms/step - loss: 1.4354 - accuracy: 0.3630 - val_loss: 1.4510 - val_accuracy: 0.3758\n",
            "Epoch 12/125\n",
            "49/49 [==============================] - 0s 5ms/step - loss: 1.4234 - accuracy: 0.3692 - val_loss: 1.4450 - val_accuracy: 0.3626\n",
            "Epoch 13/125\n",
            "49/49 [==============================] - 0s 6ms/step - loss: 1.4109 - accuracy: 0.3804 - val_loss: 1.4335 - val_accuracy: 0.3808\n",
            "Epoch 14/125\n",
            "49/49 [==============================] - 0s 6ms/step - loss: 1.4059 - accuracy: 0.3800 - val_loss: 1.4209 - val_accuracy: 0.3808\n",
            "Epoch 15/125\n",
            "49/49 [==============================] - 0s 5ms/step - loss: 1.3895 - accuracy: 0.3808 - val_loss: 1.4118 - val_accuracy: 0.3758\n",
            "Epoch 16/125\n",
            "49/49 [==============================] - 0s 5ms/step - loss: 1.3717 - accuracy: 0.3965 - val_loss: 1.3957 - val_accuracy: 0.3825\n",
            "Epoch 17/125\n",
            "49/49 [==============================] - 0s 6ms/step - loss: 1.3604 - accuracy: 0.4019 - val_loss: 1.3946 - val_accuracy: 0.3891\n",
            "Epoch 18/125\n",
            "49/49 [==============================] - 0s 5ms/step - loss: 1.3347 - accuracy: 0.4329 - val_loss: 1.3398 - val_accuracy: 0.4338\n",
            "Epoch 19/125\n",
            "49/49 [==============================] - 0s 6ms/step - loss: 1.3021 - accuracy: 0.4520 - val_loss: 1.3396 - val_accuracy: 0.4089\n",
            "Epoch 20/125\n",
            "49/49 [==============================] - 0s 5ms/step - loss: 1.2693 - accuracy: 0.4611 - val_loss: 1.4221 - val_accuracy: 0.3626\n",
            "Epoch 21/125\n",
            "49/49 [==============================] - 0s 6ms/step - loss: 1.2639 - accuracy: 0.4603 - val_loss: 1.2735 - val_accuracy: 0.4702\n",
            "Epoch 22/125\n",
            "49/49 [==============================] - 0s 6ms/step - loss: 1.2269 - accuracy: 0.4888 - val_loss: 1.2544 - val_accuracy: 0.4735\n",
            "Epoch 23/125\n",
            "49/49 [==============================] - 0s 5ms/step - loss: 1.2121 - accuracy: 0.5000 - val_loss: 1.2369 - val_accuracy: 0.4818\n",
            "Epoch 24/125\n",
            "49/49 [==============================] - 0s 5ms/step - loss: 1.1814 - accuracy: 0.5079 - val_loss: 1.2737 - val_accuracy: 0.4768\n",
            "Epoch 25/125\n",
            "49/49 [==============================] - 0s 6ms/step - loss: 1.1802 - accuracy: 0.5112 - val_loss: 1.2306 - val_accuracy: 0.4801\n",
            "Epoch 26/125\n",
            "49/49 [==============================] - 0s 6ms/step - loss: 1.1663 - accuracy: 0.5161 - val_loss: 1.2291 - val_accuracy: 0.4735\n",
            "Epoch 27/125\n",
            "49/49 [==============================] - 0s 6ms/step - loss: 1.1571 - accuracy: 0.5244 - val_loss: 1.2386 - val_accuracy: 0.4636\n",
            "Epoch 28/125\n",
            "49/49 [==============================] - 0s 6ms/step - loss: 1.1519 - accuracy: 0.5207 - val_loss: 1.2163 - val_accuracy: 0.4834\n",
            "Epoch 29/125\n",
            "49/49 [==============================] - 0s 6ms/step - loss: 1.1516 - accuracy: 0.5368 - val_loss: 1.2597 - val_accuracy: 0.4917\n",
            "Epoch 30/125\n",
            "49/49 [==============================] - 0s 6ms/step - loss: 1.1612 - accuracy: 0.5277 - val_loss: 1.2196 - val_accuracy: 0.4752\n",
            "Epoch 31/125\n",
            "49/49 [==============================] - 0s 5ms/step - loss: 1.1333 - accuracy: 0.5377 - val_loss: 1.2057 - val_accuracy: 0.4884\n",
            "Epoch 32/125\n",
            "49/49 [==============================] - 0s 6ms/step - loss: 1.1394 - accuracy: 0.5352 - val_loss: 1.2397 - val_accuracy: 0.4752\n",
            "Epoch 33/125\n",
            "49/49 [==============================] - 0s 6ms/step - loss: 1.1191 - accuracy: 0.5426 - val_loss: 1.2181 - val_accuracy: 0.4834\n",
            "Epoch 34/125\n",
            "49/49 [==============================] - 0s 6ms/step - loss: 1.1199 - accuracy: 0.5555 - val_loss: 1.2103 - val_accuracy: 0.4901\n",
            "Epoch 35/125\n",
            "49/49 [==============================] - 0s 5ms/step - loss: 1.1224 - accuracy: 0.5464 - val_loss: 1.2135 - val_accuracy: 0.4950\n",
            "Epoch 36/125\n",
            "49/49 [==============================] - 0s 5ms/step - loss: 1.1018 - accuracy: 0.5513 - val_loss: 1.2190 - val_accuracy: 0.4801\n",
            "Epoch 37/125\n",
            "49/49 [==============================] - 0s 6ms/step - loss: 1.1114 - accuracy: 0.5497 - val_loss: 1.2295 - val_accuracy: 0.4669\n",
            "Epoch 38/125\n",
            "49/49 [==============================] - 0s 6ms/step - loss: 1.1047 - accuracy: 0.5542 - val_loss: 1.1979 - val_accuracy: 0.4967\n",
            "Epoch 39/125\n",
            "49/49 [==============================] - 0s 6ms/step - loss: 1.0975 - accuracy: 0.5588 - val_loss: 1.1986 - val_accuracy: 0.4950\n",
            "Epoch 40/125\n",
            "49/49 [==============================] - 0s 6ms/step - loss: 1.0884 - accuracy: 0.5563 - val_loss: 1.2098 - val_accuracy: 0.4884\n",
            "Epoch 41/125\n",
            "49/49 [==============================] - 0s 6ms/step - loss: 1.0833 - accuracy: 0.5650 - val_loss: 1.1988 - val_accuracy: 0.5083\n",
            "Epoch 42/125\n",
            "49/49 [==============================] - 0s 5ms/step - loss: 1.0793 - accuracy: 0.5658 - val_loss: 1.2454 - val_accuracy: 0.4702\n",
            "Epoch 43/125\n",
            "49/49 [==============================] - 0s 5ms/step - loss: 1.0848 - accuracy: 0.5695 - val_loss: 1.2010 - val_accuracy: 0.5050\n",
            "Epoch 44/125\n",
            "49/49 [==============================] - 0s 6ms/step - loss: 1.0736 - accuracy: 0.5671 - val_loss: 1.1962 - val_accuracy: 0.5083\n",
            "Epoch 45/125\n",
            "49/49 [==============================] - 0s 5ms/step - loss: 1.0762 - accuracy: 0.5762 - val_loss: 1.1986 - val_accuracy: 0.5066\n",
            "Epoch 46/125\n",
            "49/49 [==============================] - 0s 6ms/step - loss: 1.0594 - accuracy: 0.5811 - val_loss: 1.2108 - val_accuracy: 0.5083\n",
            "Epoch 47/125\n",
            "49/49 [==============================] - 0s 5ms/step - loss: 1.0659 - accuracy: 0.5712 - val_loss: 1.2107 - val_accuracy: 0.5083\n",
            "Epoch 48/125\n",
            "49/49 [==============================] - 0s 5ms/step - loss: 1.0641 - accuracy: 0.5807 - val_loss: 1.1841 - val_accuracy: 0.5066\n",
            "Epoch 49/125\n",
            "49/49 [==============================] - 0s 6ms/step - loss: 1.0589 - accuracy: 0.5741 - val_loss: 1.2097 - val_accuracy: 0.5000\n",
            "Epoch 50/125\n",
            "49/49 [==============================] - 0s 6ms/step - loss: 1.0577 - accuracy: 0.5861 - val_loss: 1.1949 - val_accuracy: 0.5066\n",
            "Epoch 51/125\n",
            "49/49 [==============================] - 0s 6ms/step - loss: 1.0504 - accuracy: 0.5762 - val_loss: 1.1817 - val_accuracy: 0.5215\n",
            "Epoch 52/125\n",
            "49/49 [==============================] - 0s 5ms/step - loss: 1.0361 - accuracy: 0.5906 - val_loss: 1.1990 - val_accuracy: 0.5132\n",
            "Epoch 53/125\n",
            "49/49 [==============================] - 0s 5ms/step - loss: 1.0343 - accuracy: 0.5902 - val_loss: 1.1945 - val_accuracy: 0.5066\n",
            "Epoch 54/125\n",
            "49/49 [==============================] - 0s 5ms/step - loss: 1.0289 - accuracy: 0.5861 - val_loss: 1.2281 - val_accuracy: 0.4901\n",
            "Epoch 55/125\n",
            "49/49 [==============================] - 0s 6ms/step - loss: 1.0278 - accuracy: 0.5931 - val_loss: 1.2011 - val_accuracy: 0.4868\n",
            "Epoch 56/125\n",
            "49/49 [==============================] - 0s 6ms/step - loss: 1.0216 - accuracy: 0.5989 - val_loss: 1.1970 - val_accuracy: 0.5182\n",
            "Epoch 57/125\n",
            "49/49 [==============================] - 0s 6ms/step - loss: 1.0229 - accuracy: 0.5964 - val_loss: 1.2162 - val_accuracy: 0.4685\n",
            "Epoch 58/125\n",
            "49/49 [==============================] - 0s 6ms/step - loss: 1.0257 - accuracy: 0.5944 - val_loss: 1.1734 - val_accuracy: 0.5132\n",
            "Epoch 59/125\n",
            "49/49 [==============================] - 0s 6ms/step - loss: 1.0074 - accuracy: 0.6072 - val_loss: 1.1920 - val_accuracy: 0.5066\n",
            "Epoch 60/125\n",
            "49/49 [==============================] - 0s 6ms/step - loss: 1.0128 - accuracy: 0.6002 - val_loss: 1.1821 - val_accuracy: 0.4950\n",
            "Epoch 61/125\n",
            "49/49 [==============================] - 0s 6ms/step - loss: 1.0136 - accuracy: 0.6047 - val_loss: 1.1975 - val_accuracy: 0.5215\n",
            "Epoch 62/125\n",
            "49/49 [==============================] - 0s 6ms/step - loss: 1.0100 - accuracy: 0.6035 - val_loss: 1.1753 - val_accuracy: 0.5083\n",
            "Epoch 63/125\n",
            "49/49 [==============================] - 0s 5ms/step - loss: 1.0016 - accuracy: 0.6093 - val_loss: 1.1786 - val_accuracy: 0.5066\n",
            "Epoch 64/125\n",
            "49/49 [==============================] - 0s 6ms/step - loss: 0.9944 - accuracy: 0.6080 - val_loss: 1.1858 - val_accuracy: 0.5149\n",
            "Epoch 65/125\n",
            "49/49 [==============================] - 0s 6ms/step - loss: 1.0053 - accuracy: 0.6010 - val_loss: 1.1830 - val_accuracy: 0.4950\n",
            "Epoch 66/125\n",
            "49/49 [==============================] - 0s 5ms/step - loss: 0.9939 - accuracy: 0.6084 - val_loss: 1.2063 - val_accuracy: 0.5182\n",
            "Epoch 67/125\n",
            "49/49 [==============================] - 0s 6ms/step - loss: 0.9907 - accuracy: 0.6167 - val_loss: 1.1886 - val_accuracy: 0.5066\n",
            "Epoch 68/125\n",
            "49/49 [==============================] - 0s 6ms/step - loss: 0.9720 - accuracy: 0.6192 - val_loss: 1.1583 - val_accuracy: 0.5298\n",
            "Epoch 69/125\n",
            "49/49 [==============================] - 0s 6ms/step - loss: 0.9765 - accuracy: 0.6101 - val_loss: 1.1751 - val_accuracy: 0.5116\n",
            "Epoch 70/125\n",
            "49/49 [==============================] - 0s 5ms/step - loss: 0.9729 - accuracy: 0.6159 - val_loss: 1.2070 - val_accuracy: 0.5083\n",
            "Epoch 71/125\n",
            "49/49 [==============================] - 0s 6ms/step - loss: 0.9830 - accuracy: 0.6122 - val_loss: 1.1587 - val_accuracy: 0.5199\n",
            "Epoch 72/125\n",
            "49/49 [==============================] - 0s 5ms/step - loss: 0.9777 - accuracy: 0.6130 - val_loss: 1.1688 - val_accuracy: 0.5132\n",
            "Epoch 73/125\n",
            "49/49 [==============================] - 0s 5ms/step - loss: 0.9654 - accuracy: 0.6221 - val_loss: 1.1743 - val_accuracy: 0.5397\n",
            "Epoch 74/125\n",
            "49/49 [==============================] - 0s 6ms/step - loss: 0.9736 - accuracy: 0.6118 - val_loss: 1.1875 - val_accuracy: 0.5066\n",
            "Epoch 75/125\n",
            "49/49 [==============================] - 0s 6ms/step - loss: 0.9612 - accuracy: 0.6242 - val_loss: 1.1538 - val_accuracy: 0.5182\n",
            "Epoch 76/125\n",
            "49/49 [==============================] - 0s 6ms/step - loss: 0.9508 - accuracy: 0.6296 - val_loss: 1.1645 - val_accuracy: 0.5116\n",
            "Epoch 77/125\n",
            "49/49 [==============================] - 0s 6ms/step - loss: 0.9691 - accuracy: 0.6134 - val_loss: 1.1589 - val_accuracy: 0.5116\n",
            "Epoch 78/125\n",
            "49/49 [==============================] - 0s 5ms/step - loss: 0.9454 - accuracy: 0.6250 - val_loss: 1.1474 - val_accuracy: 0.5348\n",
            "Epoch 79/125\n",
            "49/49 [==============================] - 0s 5ms/step - loss: 0.9495 - accuracy: 0.6171 - val_loss: 1.1599 - val_accuracy: 0.5182\n",
            "Epoch 80/125\n",
            "49/49 [==============================] - 0s 6ms/step - loss: 0.9409 - accuracy: 0.6300 - val_loss: 1.1488 - val_accuracy: 0.5298\n",
            "Epoch 81/125\n",
            "49/49 [==============================] - 0s 5ms/step - loss: 0.9505 - accuracy: 0.6209 - val_loss: 1.1664 - val_accuracy: 0.5199\n",
            "Epoch 82/125\n",
            "49/49 [==============================] - 0s 6ms/step - loss: 0.9505 - accuracy: 0.6242 - val_loss: 1.1308 - val_accuracy: 0.5381\n",
            "Epoch 83/125\n",
            "49/49 [==============================] - 0s 5ms/step - loss: 0.9279 - accuracy: 0.6362 - val_loss: 1.1513 - val_accuracy: 0.5430\n",
            "Epoch 84/125\n",
            "49/49 [==============================] - 0s 5ms/step - loss: 0.9255 - accuracy: 0.6382 - val_loss: 1.1603 - val_accuracy: 0.5281\n",
            "Epoch 85/125\n",
            "49/49 [==============================] - 0s 6ms/step - loss: 0.9253 - accuracy: 0.6527 - val_loss: 1.1791 - val_accuracy: 0.5099\n",
            "Epoch 86/125\n",
            "49/49 [==============================] - 0s 5ms/step - loss: 0.9329 - accuracy: 0.6279 - val_loss: 1.1649 - val_accuracy: 0.5182\n",
            "Epoch 87/125\n",
            "49/49 [==============================] - 0s 5ms/step - loss: 0.9239 - accuracy: 0.6366 - val_loss: 1.1614 - val_accuracy: 0.5199\n",
            "Epoch 88/125\n",
            "49/49 [==============================] - 0s 5ms/step - loss: 0.9198 - accuracy: 0.6498 - val_loss: 1.1576 - val_accuracy: 0.5480\n",
            "Epoch 89/125\n",
            "49/49 [==============================] - 0s 5ms/step - loss: 0.9229 - accuracy: 0.6378 - val_loss: 1.1334 - val_accuracy: 0.5248\n",
            "Epoch 90/125\n",
            "49/49 [==============================] - 0s 6ms/step - loss: 0.9158 - accuracy: 0.6395 - val_loss: 1.1335 - val_accuracy: 0.5381\n",
            "Epoch 91/125\n",
            "49/49 [==============================] - 0s 6ms/step - loss: 0.9076 - accuracy: 0.6416 - val_loss: 1.1362 - val_accuracy: 0.5298\n",
            "Epoch 92/125\n",
            "49/49 [==============================] - 0s 5ms/step - loss: 0.9133 - accuracy: 0.6445 - val_loss: 1.1756 - val_accuracy: 0.5298\n",
            "Epoch 93/125\n",
            "49/49 [==============================] - 0s 5ms/step - loss: 0.9055 - accuracy: 0.6391 - val_loss: 1.1294 - val_accuracy: 0.5414\n",
            "Epoch 94/125\n",
            "49/49 [==============================] - 0s 6ms/step - loss: 0.8985 - accuracy: 0.6548 - val_loss: 1.1603 - val_accuracy: 0.5464\n",
            "Epoch 95/125\n",
            "49/49 [==============================] - 0s 5ms/step - loss: 0.9063 - accuracy: 0.6449 - val_loss: 1.1241 - val_accuracy: 0.5381\n",
            "Epoch 96/125\n",
            "49/49 [==============================] - 0s 6ms/step - loss: 0.8954 - accuracy: 0.6469 - val_loss: 1.1544 - val_accuracy: 0.5430\n",
            "Epoch 97/125\n",
            "49/49 [==============================] - 0s 5ms/step - loss: 0.8863 - accuracy: 0.6606 - val_loss: 1.1533 - val_accuracy: 0.5315\n",
            "Epoch 98/125\n",
            "49/49 [==============================] - 0s 6ms/step - loss: 0.8928 - accuracy: 0.6358 - val_loss: 1.1525 - val_accuracy: 0.5397\n",
            "Epoch 99/125\n",
            "49/49 [==============================] - 0s 6ms/step - loss: 0.8932 - accuracy: 0.6627 - val_loss: 1.1680 - val_accuracy: 0.5182\n",
            "Epoch 100/125\n",
            "49/49 [==============================] - 0s 6ms/step - loss: 0.8794 - accuracy: 0.6457 - val_loss: 1.1593 - val_accuracy: 0.5447\n",
            "Epoch 101/125\n",
            "49/49 [==============================] - 0s 5ms/step - loss: 0.8859 - accuracy: 0.6449 - val_loss: 1.1615 - val_accuracy: 0.5348\n",
            "Epoch 102/125\n",
            "49/49 [==============================] - 0s 6ms/step - loss: 0.8768 - accuracy: 0.6544 - val_loss: 1.1584 - val_accuracy: 0.5248\n",
            "Epoch 103/125\n",
            "49/49 [==============================] - 0s 6ms/step - loss: 0.8744 - accuracy: 0.6515 - val_loss: 1.1729 - val_accuracy: 0.5430\n",
            "Epoch 104/125\n",
            "49/49 [==============================] - 0s 6ms/step - loss: 0.8706 - accuracy: 0.6618 - val_loss: 1.1488 - val_accuracy: 0.5265\n",
            "Epoch 105/125\n",
            "49/49 [==============================] - 0s 6ms/step - loss: 0.8656 - accuracy: 0.6668 - val_loss: 1.1358 - val_accuracy: 0.5232\n",
            "Epoch 106/125\n",
            "49/49 [==============================] - 0s 5ms/step - loss: 0.8800 - accuracy: 0.6511 - val_loss: 1.1656 - val_accuracy: 0.5447\n",
            "Epoch 107/125\n",
            "49/49 [==============================] - 0s 5ms/step - loss: 0.8634 - accuracy: 0.6672 - val_loss: 1.1414 - val_accuracy: 0.5281\n",
            "Epoch 108/125\n",
            "49/49 [==============================] - 0s 5ms/step - loss: 0.8656 - accuracy: 0.6651 - val_loss: 1.1584 - val_accuracy: 0.5497\n",
            "Epoch 109/125\n",
            "49/49 [==============================] - 0s 6ms/step - loss: 0.8616 - accuracy: 0.6618 - val_loss: 1.1420 - val_accuracy: 0.5430\n",
            "Epoch 110/125\n",
            "49/49 [==============================] - 0s 5ms/step - loss: 0.8539 - accuracy: 0.6569 - val_loss: 1.1186 - val_accuracy: 0.5364\n",
            "Epoch 111/125\n",
            "49/49 [==============================] - 0s 6ms/step - loss: 0.8515 - accuracy: 0.6631 - val_loss: 1.1280 - val_accuracy: 0.5464\n",
            "Epoch 112/125\n",
            "49/49 [==============================] - 0s 5ms/step - loss: 0.8615 - accuracy: 0.6643 - val_loss: 1.1296 - val_accuracy: 0.5397\n",
            "Epoch 113/125\n",
            "49/49 [==============================] - 0s 5ms/step - loss: 0.8387 - accuracy: 0.6784 - val_loss: 1.1378 - val_accuracy: 0.5546\n",
            "Epoch 114/125\n",
            "49/49 [==============================] - 0s 5ms/step - loss: 0.8353 - accuracy: 0.6751 - val_loss: 1.1117 - val_accuracy: 0.5480\n",
            "Epoch 115/125\n",
            "49/49 [==============================] - 0s 6ms/step - loss: 0.8391 - accuracy: 0.6755 - val_loss: 1.1265 - val_accuracy: 0.5447\n",
            "Epoch 116/125\n",
            "49/49 [==============================] - 0s 6ms/step - loss: 0.8314 - accuracy: 0.6776 - val_loss: 1.1608 - val_accuracy: 0.5331\n",
            "Epoch 117/125\n",
            "49/49 [==============================] - 0s 5ms/step - loss: 0.8288 - accuracy: 0.6805 - val_loss: 1.1299 - val_accuracy: 0.5513\n",
            "Epoch 118/125\n",
            "49/49 [==============================] - 0s 5ms/step - loss: 0.8289 - accuracy: 0.6796 - val_loss: 1.1491 - val_accuracy: 0.5513\n",
            "Epoch 119/125\n",
            "49/49 [==============================] - 0s 5ms/step - loss: 0.8176 - accuracy: 0.6747 - val_loss: 1.1486 - val_accuracy: 0.5364\n",
            "Epoch 120/125\n",
            "49/49 [==============================] - 0s 6ms/step - loss: 0.8173 - accuracy: 0.6813 - val_loss: 1.1435 - val_accuracy: 0.5546\n",
            "Epoch 121/125\n",
            "49/49 [==============================] - 0s 6ms/step - loss: 0.8519 - accuracy: 0.6685 - val_loss: 1.1531 - val_accuracy: 0.5315\n",
            "Epoch 122/125\n",
            "49/49 [==============================] - 0s 5ms/step - loss: 0.8108 - accuracy: 0.6776 - val_loss: 1.1293 - val_accuracy: 0.5513\n",
            "Epoch 123/125\n",
            "49/49 [==============================] - 0s 6ms/step - loss: 0.8144 - accuracy: 0.6879 - val_loss: 1.1574 - val_accuracy: 0.5579\n",
            "Epoch 124/125\n",
            "49/49 [==============================] - 0s 5ms/step - loss: 0.8371 - accuracy: 0.6598 - val_loss: 1.1575 - val_accuracy: 0.5414\n",
            "Epoch 125/125\n",
            "49/49 [==============================] - 0s 5ms/step - loss: 0.8118 - accuracy: 0.6751 - val_loss: 1.1439 - val_accuracy: 0.5430\n"
          ]
        }
      ],
      "source": [
        "hist = model.fit(x_train, y_train_one, batch_size = 50, epochs = 125, validation_split = 0.2)"
      ],
      "id": "rPX3sRyMj9Qb"
    },
    {
      "cell_type": "code",
      "execution_count": 55,
      "metadata": {
        "colab": {
          "base_uri": "https://localhost:8080/"
        },
        "id": "TTtHXndPs34T",
        "outputId": "9d7c0853-1e7e-4b35-d238-3d3b5dc8b169"
      },
      "outputs": [
        {
          "output_type": "stream",
          "name": "stdout",
          "text": [
            "24/24 [==============================] - 0s 4ms/step - loss: 1.0507 - accuracy: 0.5960\n"
          ]
        },
        {
          "output_type": "execute_result",
          "data": {
            "text/plain": [
              "[1.0506848096847534, 0.5960264801979065]"
            ]
          },
          "metadata": {},
          "execution_count": 55
        }
      ],
      "source": [
        "model.evaluate(x_test,y_test_one)"
      ],
      "id": "TTtHXndPs34T"
    },
    {
      "cell_type": "code",
      "execution_count": 56,
      "metadata": {
        "colab": {
          "base_uri": "https://localhost:8080/",
          "height": 295
        },
        "id": "d0zI8wSptrQr",
        "outputId": "867e3b6b-af44-4648-f9e6-a434ea3ebce1"
      },
      "outputs": [
        {
          "output_type": "display_data",
          "data": {
            "text/plain": [
              "<Figure size 432x288 with 1 Axes>"
            ],
            "image/png": "[encoded data removed]"
          },
          "metadata": {
            "needs_background": "light"
          }
        }
      ],
      "source": [
        "#visualise the models accuracy\n",
        "plt.plot(hist.history['accuracy'])\n",
        "plt.plot(hist.history['val_accuracy'])\n",
        "plt.title('Model accuracy')\n",
        "plt.ylabel('Accuracy')\n",
        "plt.xlabel('Epoch')\n",
        "plt.legend(['Train','Val'], loc = 'upper right')\n",
        "plt.show()"
      ],
      "id": "d0zI8wSptrQr"
    },
    {
      "cell_type": "code",
      "execution_count": 57,
      "metadata": {
        "colab": {
          "base_uri": "https://localhost:8080/",
          "height": 295
        },
        "id": "eLLeGu7AuqXb",
        "outputId": "7b0f7e60-4d6a-423a-f10a-3af8f19fde81"
      },
      "outputs": [
        {
          "output_type": "display_data",
          "data": {
            "text/plain": [
              "<Figure size 432x288 with 1 Axes>"
            ],
            "image/png": "[encoded data removed]"
          },
          "metadata": {
            "needs_background": "light"
          }
        }
      ],
      "source": [
        "#Visualise the models loss\n",
        "plt.plot(hist.history['loss'])\n",
        "plt.plot(hist.history['val_loss'])\n",
        "plt.title('Model Loss')\n",
        "plt.ylabel('Loss')\n",
        "plt.xlabel('Epoch')\n",
        "plt.legend(['Train', 'Val'], loc = 'upper right')\n",
        "plt.show()"
      ],
      "id": "eLLeGu7AuqXb"
    },
    {
      "cell_type": "code",
      "execution_count": null,
      "metadata": {
        "id": "AvwtURYrvTo7"
      },
      "outputs": [],
      "source": [],
      "id": "AvwtURYrvTo7"
    }
  ],
  "metadata": {
    "accelerator": "GPU",
    "colab": {
      "collapsed_sections": [],
      "name": "flower_classifier.ipynb",
      "provenance": [],
      "include_colab_link": true
    },
    "gpuClass": "standard",
    "kernelspec": {
      "display_name": "Python 3 (ipykernel)",
      "language": "python",
      "name": "python3"
    },
    "language_info": {
      "codemirror_mode": {
        "name": "ipython",
        "version": 3
      },
      "file_extension": ".py",
      "mimetype": "text/x-python",
      "name": "python",
      "nbconvert_exporter": "python",
      "pygments_lexer": "ipython3",
      "version": "3.9.12"
    }
  },
  "nbformat": 4,
  "nbformat_minor": 5
}