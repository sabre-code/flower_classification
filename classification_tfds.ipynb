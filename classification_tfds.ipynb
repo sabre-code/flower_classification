{
  "nbformat": 4,
  "nbformat_minor": 0,
  "metadata": {
    "colab": {
      "provenance": [],
      "collapsed_sections": [],
      "authorship_tag": "ABX9TyPogG0+NejSiDdwQBpFw9Tb",
      "include_colab_link": true
    },
    "kernelspec": {
      "name": "python3",
      "display_name": "Python 3"
    },
    "language_info": {
      "name": "python"
    }
  },
  "cells": [
    {
      "cell_type": "markdown",
      "metadata": {
        "id": "view-in-github",
        "colab_type": "text"
      },
      "source": [
        "<a href=\"https://colab.research.google.com/github/sabre-code/flower_classification/blob/main/classification_tfds.ipynb\" target=\"_parent\"><img src=\"https://colab.research.google.com/assets/colab-badge.svg\" alt=\"Open In Colab\"/></a>"
      ]
    },
    {
      "cell_type": "code",
      "execution_count": 1,
      "metadata": {
        "id": "EjamGGFuRnqF"
      },
      "outputs": [],
      "source": [
        "import numpy as np\n",
        "import os\n",
        "import PIL\n",
        "import PIL.Image\n",
        "import tensorflow as tf\n",
        "import tensorflow_datasets as tfds"
      ]
    },
    {
      "cell_type": "code",
      "source": [
        "print(tf.__version__)"
      ],
      "metadata": {
        "colab": {
          "base_uri": "https://localhost:8080/"
        },
        "id": "cdx2NA1GXDX7",
        "outputId": "bbdfefaa-1a22-4922-c1e2-d6c9a1bbd540"
      },
      "execution_count": 2,
      "outputs": [
        {
          "output_type": "stream",
          "name": "stdout",
          "text": [
            "2.8.2\n"
          ]
        }
      ]
    },
    {
      "cell_type": "code",
      "source": [
        "import pathlib\n",
        "dataset_url = \"https://storage.googleapis.com/download.tensorflow.org/example_images/flower_photos.tgz\"\n",
        "data_dir = tf.keras.utils.get_file(origin = dataset_url, fname = 'flower_photos', untar = True)\n",
        "data_dir = pathlib.Path(data_dir)"
      ],
      "metadata": {
        "colab": {
          "base_uri": "https://localhost:8080/"
        },
        "id": "dsnJlCtvXLRC",
        "outputId": "3d1a599c-203c-430e-c923-eaf41735f145"
      },
      "execution_count": 3,
      "outputs": [
        {
          "output_type": "stream",
          "name": "stdout",
          "text": [
            "Downloading data from https://storage.googleapis.com/download.tensorflow.org/example_images/flower_photos.tgz\n",
            "228818944/228813984 [==============================] - 2s 0us/step\n",
            "228827136/228813984 [==============================] - 2s 0us/step\n"
          ]
        }
      ]
    },
    {
      "cell_type": "code",
      "source": [
        "image_count = len((list(data_dir.glob('*/*.jpg'))))\n",
        "print(\"Total Images: \",image_count)"
      ],
      "metadata": {
        "colab": {
          "base_uri": "https://localhost:8080/"
        },
        "id": "TqEX3Dr2YWxA",
        "outputId": "1d76835d-7528-4660-cb09-03db971d135d"
      },
      "execution_count": 4,
      "outputs": [
        {
          "output_type": "stream",
          "name": "stdout",
          "text": [
            "3670\n"
          ]
        }
      ]
    },
    {
      "cell_type": "code",
      "source": [
        "rose = list(data_dir.glob('roses/*'))\n",
        "sunflower = list(data_dir.glob('sunflowers/*'))\n",
        "tulips = list(data_dir.glob('tulips/*'))\n",
        "dandelion = list(data_dir.glob('dandelion/*'))\n",
        "daisy = list(data_dir.glob('daisy/*'))\n",
        "\n",
        "print(\"Total Roses :\",len(rose))\n",
        "print(\"Total Sunflowers :\",len(sunflower))\n",
        "print(\"Total Tulips :\",len(tulips))\n",
        "print(\"Total Dandelion :\",len(dandelion))\n",
        "print(\"Total Daisy :\",len(daisy))"
      ],
      "metadata": {
        "colab": {
          "base_uri": "https://localhost:8080/"
        },
        "id": "fdXzVeYeYzf3",
        "outputId": "315855b0-b52b-4400-e9c6-87a2fdb08716"
      },
      "execution_count": 14,
      "outputs": [
        {
          "output_type": "stream",
          "name": "stdout",
          "text": [
            "Total Roses : 641\n",
            "Total Sunflowers : 699\n",
            "Total Tulips : 799\n",
            "Total Dandelion : 898\n",
            "Total Daisy : 633\n"
          ]
        }
      ]
    },
    {
      "cell_type": "code",
      "source": [
        "PIL.Image.open(str(rose[0]))\n",
        "PIL.Image.open(str(sunflower[0]))\n",
        "PIL.Image.open(str(tulips[0]))\n",
        "PIL.Image.open(str(dandelion[0]))\n",
        "PIL.Image.open(str(daisy[0]))"
      ],
      "metadata": {
        "id": "zK2RXQqnbCT5"
      },
      "execution_count": null,
      "outputs": []
    }
  ]
}